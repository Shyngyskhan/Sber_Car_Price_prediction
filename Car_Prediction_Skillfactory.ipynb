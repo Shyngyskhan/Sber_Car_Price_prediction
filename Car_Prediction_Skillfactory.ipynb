{
 "cells": [
  {
   "cell_type": "markdown",
   "metadata": {},
   "source": [
    "**[SF-DST] Car Price prediction**\n",
    "\n",
    "**Прогнозирование стоимости автомобиля по характеристикам**\n",
    "\n",
    "Команда: 4BI\n",
    "\n",
    "Члены команды: Икен Шынгысхан, Нурсейт Бекзат, Амангелди Ильяс"
   ]
  },
  {
   "cell_type": "markdown",
   "metadata": {},
   "source": [
    "### 1. Чистка test.csv"
   ]
  },
  {
   "cell_type": "code",
   "execution_count": 580,
   "metadata": {},
   "outputs": [],
   "source": [
    "import pandas as pd"
   ]
  },
  {
   "cell_type": "code",
   "execution_count": 581,
   "metadata": {},
   "outputs": [],
   "source": [
    "test = pd.read_csv('test.csv')"
   ]
  },
  {
   "cell_type": "code",
   "execution_count": 582,
   "metadata": {},
   "outputs": [],
   "source": [
    "import json"
   ]
  },
  {
   "cell_type": "code",
   "execution_count": 583,
   "metadata": {},
   "outputs": [
    {
     "data": {
      "text/plain": [
       "{'id': '10373605',\n",
       " 'displacement': 1197,\n",
       " 'engine_type': 'GASOLINE',\n",
       " 'gear_type': 'FORWARD_CONTROL',\n",
       " 'transmission': 'ROBOT',\n",
       " 'power': 105,\n",
       " 'power_kvt': 77,\n",
       " 'human_name': '1.2 AMT (105 л.с.)',\n",
       " 'acceleration': 10.5,\n",
       " 'clearance_min': 155,\n",
       " 'fuel_rate': 5}"
      ]
     },
     "execution_count": 583,
     "metadata": {},
     "output_type": "execute_result"
    }
   ],
   "source": [
    "json.loads(test['super_gen'][0])"
   ]
  },
  {
   "cell_type": "markdown",
   "metadata": {},
   "source": [
    "#### Вытащим несколько переменных с super_gen"
   ]
  },
  {
   "cell_type": "code",
   "execution_count": 584,
   "metadata": {},
   "outputs": [],
   "source": [
    "test['acceleration'] = [json.loads(test['super_gen'][i])['acceleration'] if ('acceleration' in test['super_gen'][i]) else 'NaN' for i in range(len(test['super_gen']))]"
   ]
  },
  {
   "cell_type": "code",
   "execution_count": 585,
   "metadata": {},
   "outputs": [],
   "source": [
    "test['clearance_min'] = [json.loads(test['super_gen'][i])['clearance_min'] if ('clearance_min' in test['super_gen'][i]) else 'NaN' for i in range(len(test['super_gen']))]"
   ]
  },
  {
   "cell_type": "code",
   "execution_count": 586,
   "metadata": {},
   "outputs": [],
   "source": [
    "test['power_kvt'] = [json.loads(test['super_gen'][i])['power_kvt'] if ('power_kvt' in test['super_gen'][i]) else 'NaN' for i in range(len(test['super_gen']))]"
   ]
  },
  {
   "cell_type": "code",
   "execution_count": 587,
   "metadata": {},
   "outputs": [],
   "source": [
    "test['displacement'] = [json.loads(test['super_gen'][i])['displacement'] if ('displacement' in test['super_gen'][i]) else 'NaN' for i in range(len(test['super_gen']))]"
   ]
  },
  {
   "cell_type": "code",
   "execution_count": 588,
   "metadata": {},
   "outputs": [],
   "source": [
    "test['fuel_rate'] = [json.loads(test['super_gen'][i])['fuel_rate'] if ('fuel_rate' in test['super_gen'][i]) else 'NaN' for i in range(len(test['super_gen']))]"
   ]
  },
  {
   "cell_type": "code",
   "execution_count": 589,
   "metadata": {},
   "outputs": [
    {
     "name": "stdout",
     "output_type": "stream",
     "text": [
      "<class 'pandas.core.frame.DataFrame'>\n",
      "RangeIndex: 34686 entries, 0 to 34685\n",
      "Data columns (total 37 columns):\n",
      " #   Column                Non-Null Count  Dtype \n",
      "---  ------                --------------  ----- \n",
      " 0   bodyType              34686 non-null  object\n",
      " 1   brand                 34686 non-null  object\n",
      " 2   car_url               34686 non-null  object\n",
      " 3   color                 34686 non-null  object\n",
      " 4   complectation_dict    6418 non-null   object\n",
      " 5   description           34686 non-null  object\n",
      " 6   engineDisplacement    34686 non-null  object\n",
      " 7   enginePower           34686 non-null  object\n",
      " 8   equipment_dict        24690 non-null  object\n",
      " 9   fuelType              34686 non-null  object\n",
      " 10  image                 34686 non-null  object\n",
      " 11  mileage               34686 non-null  int64 \n",
      " 12  modelDate             34686 non-null  int64 \n",
      " 13  model_info            34686 non-null  object\n",
      " 14  model_name            34686 non-null  object\n",
      " 15  name                  34686 non-null  object\n",
      " 16  numberOfDoors         34686 non-null  int64 \n",
      " 17  parsing_unixtime      34686 non-null  int64 \n",
      " 18  priceCurrency         34686 non-null  object\n",
      " 19  productionDate        34686 non-null  int64 \n",
      " 20  sell_id               34686 non-null  int64 \n",
      " 21  super_gen             34686 non-null  object\n",
      " 22  vehicleConfiguration  34686 non-null  object\n",
      " 23  vehicleTransmission   34686 non-null  object\n",
      " 24  vendor                34686 non-null  object\n",
      " 25  Владельцы             34686 non-null  object\n",
      " 26  Владение              11995 non-null  object\n",
      " 27  ПТС                   34685 non-null  object\n",
      " 28  Привод                34686 non-null  object\n",
      " 29  Руль                  34686 non-null  object\n",
      " 30  Состояние             34686 non-null  object\n",
      " 31  Таможня               34686 non-null  object\n",
      " 32  acceleration          34686 non-null  object\n",
      " 33  clearance_min         34686 non-null  object\n",
      " 34  power_kvt             34686 non-null  int64 \n",
      " 35  displacement          34686 non-null  int64 \n",
      " 36  fuel_rate             34686 non-null  object\n",
      "dtypes: int64(8), object(29)\n",
      "memory usage: 9.8+ MB\n"
     ]
    }
   ],
   "source": [
    "test.info()"
   ]
  },
  {
   "cell_type": "markdown",
   "metadata": {},
   "source": [
    "#### Удалим оставшиеся данные с теста, так как их нет в трейне "
   ]
  },
  {
   "cell_type": "code",
   "execution_count": 591,
   "metadata": {},
   "outputs": [],
   "source": [
    "test = test.drop('car_url', axis = 1)\n",
    "test = test.drop('complectation_dict', axis = 1)\n",
    "test = test.drop('description', axis = 1)\n",
    "test = test.drop('equipment_dict', axis = 1)\n",
    "test = test.drop('vehicleConfiguration', axis = 1)\n",
    "test = test.drop('image', axis = 1)\n",
    "test = test.drop('model_info', axis = 1)\n",
    "test = test.drop('name', axis = 1)\n",
    "test = test.drop('parsing_unixtime', axis = 1)\n",
    "test = test.drop('super_gen', axis = 1)\n",
    "test = test.drop('priceCurrency', axis = 1)"
   ]
  },
  {
   "cell_type": "markdown",
   "metadata": {},
   "source": [
    "#### Уберем LTR и N12, и сделаем из них float"
   ]
  },
  {
   "cell_type": "code",
   "execution_count": 593,
   "metadata": {},
   "outputs": [],
   "source": [
    "test['engineDisplacement'] = test['engineDisplacement'].apply(lambda x: x[:-4] if 'LTR' in x else x) "
   ]
  },
  {
   "cell_type": "code",
   "execution_count": 594,
   "metadata": {},
   "outputs": [],
   "source": [
    "test['engineDisplacement'] = test['engineDisplacement'].apply(lambda x: float(x) if x != '' in x else 0) "
   ]
  },
  {
   "cell_type": "code",
   "execution_count": 595,
   "metadata": {},
   "outputs": [],
   "source": [
    "test['enginePower'] = test['enginePower'].apply(lambda x: float(x[:-4]) if 'N12' in x else (x)) "
   ]
  },
  {
   "cell_type": "code",
   "execution_count": 596,
   "metadata": {
    "scrolled": true
   },
   "outputs": [
    {
     "data": {
      "text/plain": [
       "Int64Index([ 5241,  7992,  8252,  8350,  8684,  8722,  8917, 10817, 10936,\n",
       "            11043, 11302, 11682, 11714, 11719, 11754, 11878, 11974, 12072,\n",
       "            12085, 12100, 12250, 12287, 12334, 12466, 12481, 12558, 12582,\n",
       "            12678, 12749, 12854, 12916, 12948, 12950, 13052, 13104, 13105,\n",
       "            13478, 13633, 13660, 13720, 13812, 13915, 13952, 13989, 14147,\n",
       "            14419, 23869, 23948, 27064, 28241, 32668, 32700, 32798, 34159,\n",
       "            34504],\n",
       "           dtype='int64')"
      ]
     },
     "execution_count": 596,
     "metadata": {},
     "output_type": "execute_result"
    }
   ],
   "source": [
    "test[test['fuelType'] == 'электро']['fuel_rate'].replace('NaN', 0).index"
   ]
  },
  {
   "cell_type": "markdown",
   "metadata": {},
   "source": [
    "#### У электро-каро нет топлива, поэтому значение 'NaN' поменяли на 0"
   ]
  },
  {
   "cell_type": "code",
   "execution_count": 597,
   "metadata": {},
   "outputs": [],
   "source": [
    "test.loc[test[test['fuelType'] == 'электро']['fuel_rate'].replace('NaN', 0).index,'fuel_rate'] = 0"
   ]
  },
  {
   "cell_type": "code",
   "execution_count": 598,
   "metadata": {},
   "outputs": [],
   "source": [
    "test = test.drop('sell_id', axis = 1)"
   ]
  },
  {
   "cell_type": "code",
   "execution_count": 599,
   "metadata": {},
   "outputs": [],
   "source": [
    "test.to_csv('clean_test.csv', index=False) # Checkpoint"
   ]
  },
  {
   "cell_type": "markdown",
   "metadata": {},
   "source": [
    "### 2. Очередь почистить запарсенные данные"
   ]
  },
  {
   "cell_type": "code",
   "execution_count": 600,
   "metadata": {},
   "outputs": [],
   "source": [
    "df = pd.read_csv('all_cars.csv', low_memory=False)"
   ]
  },
  {
   "cell_type": "code",
   "execution_count": 601,
   "metadata": {},
   "outputs": [],
   "source": [
    "df = df.drop_duplicates()"
   ]
  },
  {
   "cell_type": "code",
   "execution_count": 602,
   "metadata": {},
   "outputs": [
    {
     "data": {
      "text/html": [
       "<div>\n",
       "<style scoped>\n",
       "    .dataframe tbody tr th:only-of-type {\n",
       "        vertical-align: middle;\n",
       "    }\n",
       "\n",
       "    .dataframe tbody tr th {\n",
       "        vertical-align: top;\n",
       "    }\n",
       "\n",
       "    .dataframe thead th {\n",
       "        text-align: right;\n",
       "    }\n",
       "</style>\n",
       "<table border=\"1\" class=\"dataframe\">\n",
       "  <thead>\n",
       "    <tr style=\"text-align: right;\">\n",
       "      <th></th>\n",
       "      <th>Название</th>\n",
       "      <th>Цена</th>\n",
       "      <th>год выпуска</th>\n",
       "      <th>Пробег</th>\n",
       "      <th>Кузов</th>\n",
       "      <th>Цвет</th>\n",
       "      <th>Двигатель</th>\n",
       "      <th>Налог</th>\n",
       "      <th>Коробка</th>\n",
       "      <th>Привод</th>\n",
       "      <th>...</th>\n",
       "      <th>fuel_rate</th>\n",
       "      <th>modelDate</th>\n",
       "      <th>model_name</th>\n",
       "      <th>url</th>\n",
       "      <th>brand</th>\n",
       "      <th>Обмен</th>\n",
       "      <th>Гарантия</th>\n",
       "      <th>Кузов №</th>\n",
       "      <th>Запас хода</th>\n",
       "      <th>Статус</th>\n",
       "    </tr>\n",
       "  </thead>\n",
       "  <tbody>\n",
       "    <tr>\n",
       "      <th>0</th>\n",
       "      <td>Audi A2 2000-2007</td>\n",
       "      <td>265000₽</td>\n",
       "      <td>2001</td>\n",
       "      <td>240 000 км</td>\n",
       "      <td>хэтчбек 5 дв.</td>\n",
       "      <td>чёрный</td>\n",
       "      <td>1.4 л / 75 л.с. / Бензин</td>\n",
       "      <td>450 ₽ / год</td>\n",
       "      <td>механическая</td>\n",
       "      <td>передний</td>\n",
       "      <td>...</td>\n",
       "      <td>6 л</td>\n",
       "      <td>2000</td>\n",
       "      <td>A2</td>\n",
       "      <td>https://auto.ru/cars/used/sale/audi/a2/1089736...</td>\n",
       "      <td>AUDI</td>\n",
       "      <td>NaN</td>\n",
       "      <td>NaN</td>\n",
       "      <td>NaN</td>\n",
       "      <td>NaN</td>\n",
       "      <td>NaN</td>\n",
       "    </tr>\n",
       "    <tr>\n",
       "      <th>1</th>\n",
       "      <td>Audi A2 2000-2007</td>\n",
       "      <td>390000₽</td>\n",
       "      <td>2001</td>\n",
       "      <td>118 000 км</td>\n",
       "      <td>хэтчбек 5 дв.</td>\n",
       "      <td>серебристый</td>\n",
       "      <td>1.2 л / 61 л.с. / Дизель</td>\n",
       "      <td>1 464 ₽ / год</td>\n",
       "      <td>роботизированная</td>\n",
       "      <td>передний</td>\n",
       "      <td>...</td>\n",
       "      <td>2.99 л</td>\n",
       "      <td>2000</td>\n",
       "      <td>A2</td>\n",
       "      <td>https://auto.ru/cars/used/sale/audi/a2/1102039...</td>\n",
       "      <td>AUDI</td>\n",
       "      <td>Рассмотрю варианты</td>\n",
       "      <td>NaN</td>\n",
       "      <td>NaN</td>\n",
       "      <td>NaN</td>\n",
       "      <td>NaN</td>\n",
       "    </tr>\n",
       "    <tr>\n",
       "      <th>2</th>\n",
       "      <td>Audi A2 2000-2007</td>\n",
       "      <td>210000₽</td>\n",
       "      <td>2001</td>\n",
       "      <td>159 000 км</td>\n",
       "      <td>хэтчбек 5 дв.</td>\n",
       "      <td>серебристый</td>\n",
       "      <td>1.4 л / 75 л.с. / Бензин</td>\n",
       "      <td>387 ₽ / год</td>\n",
       "      <td>механическая</td>\n",
       "      <td>передний</td>\n",
       "      <td>...</td>\n",
       "      <td>6 л</td>\n",
       "      <td>2000</td>\n",
       "      <td>A2</td>\n",
       "      <td>https://auto.ru/cars/used/sale/audi/a2/1087512...</td>\n",
       "      <td>AUDI</td>\n",
       "      <td>NaN</td>\n",
       "      <td>NaN</td>\n",
       "      <td>NaN</td>\n",
       "      <td>NaN</td>\n",
       "      <td>NaN</td>\n",
       "    </tr>\n",
       "    <tr>\n",
       "      <th>3</th>\n",
       "      <td>Audi A2 2000-2007</td>\n",
       "      <td>325000₽</td>\n",
       "      <td>2001</td>\n",
       "      <td>120 000 км</td>\n",
       "      <td>хэтчбек 5 дв.</td>\n",
       "      <td>чёрный</td>\n",
       "      <td>1.4 л / 75 л.с. / Бензин</td>\n",
       "      <td>375 ₽ / год</td>\n",
       "      <td>механическая</td>\n",
       "      <td>передний</td>\n",
       "      <td>...</td>\n",
       "      <td>6 л</td>\n",
       "      <td>2000</td>\n",
       "      <td>A2</td>\n",
       "      <td>https://auto.ru/cars/used/sale/audi/a2/1098976...</td>\n",
       "      <td>AUDI</td>\n",
       "      <td>Рассмотрю варианты</td>\n",
       "      <td>NaN</td>\n",
       "      <td>NaN</td>\n",
       "      <td>NaN</td>\n",
       "      <td>NaN</td>\n",
       "    </tr>\n",
       "    <tr>\n",
       "      <th>4</th>\n",
       "      <td>Audi A2 2000-2007</td>\n",
       "      <td>390000₽</td>\n",
       "      <td>2000</td>\n",
       "      <td>195 857 км</td>\n",
       "      <td>хэтчбек 5 дв.</td>\n",
       "      <td>синий</td>\n",
       "      <td>1.4 л / 75 л.с. / Бензин</td>\n",
       "      <td>188 ₽ / год</td>\n",
       "      <td>механическая</td>\n",
       "      <td>передний</td>\n",
       "      <td>...</td>\n",
       "      <td>6 л</td>\n",
       "      <td>2000</td>\n",
       "      <td>A2</td>\n",
       "      <td>https://auto.ru/cars/used/sale/audi/a2/1102194...</td>\n",
       "      <td>AUDI</td>\n",
       "      <td>NaN</td>\n",
       "      <td>NaN</td>\n",
       "      <td>NaN</td>\n",
       "      <td>NaN</td>\n",
       "      <td>NaN</td>\n",
       "    </tr>\n",
       "  </tbody>\n",
       "</table>\n",
       "<p>5 rows × 34 columns</p>\n",
       "</div>"
      ],
      "text/plain": [
       "            Название     Цена  год выпуска      Пробег          Кузов  \\\n",
       "0  Audi A2 2000-2007  265000₽         2001  240 000 км  хэтчбек 5 дв.   \n",
       "1  Audi A2 2000-2007  390000₽         2001  118 000 км  хэтчбек 5 дв.   \n",
       "2  Audi A2 2000-2007  210000₽         2001  159 000 км  хэтчбек 5 дв.   \n",
       "3  Audi A2 2000-2007  325000₽         2001  120 000 км  хэтчбек 5 дв.   \n",
       "4  Audi A2 2000-2007  390000₽         2000  195 857 км  хэтчбек 5 дв.   \n",
       "\n",
       "          Цвет                 Двигатель          Налог           Коробка  \\\n",
       "0       чёрный  1.4 л / 75 л.с. / Бензин    450 ₽ / год      механическая   \n",
       "1  серебристый  1.2 л / 61 л.с. / Дизель  1 464 ₽ / год  роботизированная   \n",
       "2  серебристый  1.4 л / 75 л.с. / Бензин    387 ₽ / год      механическая   \n",
       "3       чёрный  1.4 л / 75 л.с. / Бензин    375 ₽ / год      механическая   \n",
       "4        синий  1.4 л / 75 л.с. / Бензин    188 ₽ / год      механическая   \n",
       "\n",
       "     Привод  ... fuel_rate modelDate model_name  \\\n",
       "0  передний  ...       6 л      2000         A2   \n",
       "1  передний  ...    2.99 л      2000         A2   \n",
       "2  передний  ...       6 л      2000         A2   \n",
       "3  передний  ...       6 л      2000         A2   \n",
       "4  передний  ...       6 л      2000         A2   \n",
       "\n",
       "                                                 url brand  \\\n",
       "0  https://auto.ru/cars/used/sale/audi/a2/1089736...  AUDI   \n",
       "1  https://auto.ru/cars/used/sale/audi/a2/1102039...  AUDI   \n",
       "2  https://auto.ru/cars/used/sale/audi/a2/1087512...  AUDI   \n",
       "3  https://auto.ru/cars/used/sale/audi/a2/1098976...  AUDI   \n",
       "4  https://auto.ru/cars/used/sale/audi/a2/1102194...  AUDI   \n",
       "\n",
       "                Обмен Гарантия Кузов № Запас хода  Статус  \n",
       "0                 NaN      NaN     NaN        NaN     NaN  \n",
       "1  Рассмотрю варианты      NaN     NaN        NaN     NaN  \n",
       "2                 NaN      NaN     NaN        NaN     NaN  \n",
       "3  Рассмотрю варианты      NaN     NaN        NaN     NaN  \n",
       "4                 NaN      NaN     NaN        NaN     NaN  \n",
       "\n",
       "[5 rows x 34 columns]"
      ]
     },
     "execution_count": 602,
     "metadata": {},
     "output_type": "execute_result"
    }
   ],
   "source": [
    "df.head()"
   ]
  },
  {
   "cell_type": "code",
   "execution_count": 604,
   "metadata": {},
   "outputs": [
    {
     "name": "stdout",
     "output_type": "stream",
     "text": [
      "<class 'pandas.core.frame.DataFrame'>\n",
      "Int64Index: 104254 entries, 0 to 104253\n",
      "Data columns (total 34 columns):\n",
      " #   Column         Non-Null Count   Dtype  \n",
      "---  ------         --------------   -----  \n",
      " 0   Название       104254 non-null  object \n",
      " 1   Цена           104254 non-null  object \n",
      " 2   год выпуска    104254 non-null  int64  \n",
      " 3   Пробег         104254 non-null  object \n",
      " 4   Кузов          104254 non-null  object \n",
      " 5   Цвет           104254 non-null  object \n",
      " 6   Двигатель      104254 non-null  object \n",
      " 7   Налог          101636 non-null  object \n",
      " 8   Коробка        104254 non-null  object \n",
      " 9   Привод         104254 non-null  object \n",
      " 10  Руль           104254 non-null  object \n",
      " 11  Состояние      104254 non-null  object \n",
      " 12  Владельцы      104239 non-null  object \n",
      " 13  ПТС            104249 non-null  object \n",
      " 14  Владение       30017 non-null   object \n",
      " 15  Таможня        104254 non-null  object \n",
      " 16  VIN            90827 non-null   object \n",
      " 17  Госномер       79410 non-null   object \n",
      " 18  vendor         104254 non-null  object \n",
      " 19  numberOfDoors  104254 non-null  int64  \n",
      " 20  clearance_min  103680 non-null  object \n",
      " 21  acceleration   88475 non-null   float64\n",
      " 22  displacement   103890 non-null  float64\n",
      " 23  power_kvt      104254 non-null  int64  \n",
      " 24  fuel_rate      88914 non-null   object \n",
      " 25  modelDate      104254 non-null  int64  \n",
      " 26  model_name     104254 non-null  object \n",
      " 27  url            104254 non-null  object \n",
      " 28  brand          104254 non-null  object \n",
      " 29  Обмен          31166 non-null   object \n",
      " 30  Гарантия       5539 non-null    object \n",
      " 31  Кузов №        10719 non-null   object \n",
      " 32  Запас хода     390 non-null     object \n",
      " 33  Статус         52 non-null      object \n",
      "dtypes: float64(2), int64(4), object(28)\n",
      "memory usage: 27.8+ MB\n"
     ]
    }
   ],
   "source": [
    "df.info()"
   ]
  },
  {
   "cell_type": "code",
   "execution_count": 605,
   "metadata": {},
   "outputs": [],
   "source": [
    "for i in df['Двигатель'].apply(lambda x: x.split(' / ', 2)): \n",
    "    if len(i) < 3:\n",
    "        print(i)"
   ]
  },
  {
   "cell_type": "markdown",
   "metadata": {},
   "source": [
    "#### С электрокарами была своя проблема. Решили отделить, почистить и потом опять объеденить."
   ]
  },
  {
   "cell_type": "code",
   "execution_count": 606,
   "metadata": {},
   "outputs": [],
   "source": [
    "electro = df[df['Двигатель'].apply(lambda x: x.split(' / ', 3)[2]) == 'Электро']"
   ]
  },
  {
   "cell_type": "code",
   "execution_count": 607,
   "metadata": {},
   "outputs": [],
   "source": [
    "df = df.drop(index=electro.index)"
   ]
  },
  {
   "cell_type": "code",
   "execution_count": 608,
   "metadata": {},
   "outputs": [],
   "source": [
    "df.insert(loc = 7, \n",
    "          column = 'engineDisplacement', \n",
    "          value = df['Двигатель'].apply(lambda x: x.split(' / ', 1)[0]))"
   ]
  },
  {
   "cell_type": "code",
   "execution_count": 609,
   "metadata": {},
   "outputs": [],
   "source": [
    "df.insert(loc = 8, \n",
    "          column = 'enginePower', \n",
    "          value = df['Двигатель'].apply(lambda x: x.split(' / ', 2)[1]))"
   ]
  },
  {
   "cell_type": "code",
   "execution_count": 610,
   "metadata": {},
   "outputs": [],
   "source": [
    "df.insert(loc = 9, \n",
    "          column = 'fuelType', \n",
    "          value = df['Двигатель'].apply(lambda x: x.split(' / ', 3)[2]))"
   ]
  },
  {
   "cell_type": "code",
   "execution_count": 611,
   "metadata": {},
   "outputs": [
    {
     "data": {
      "text/html": [
       "<div>\n",
       "<style scoped>\n",
       "    .dataframe tbody tr th:only-of-type {\n",
       "        vertical-align: middle;\n",
       "    }\n",
       "\n",
       "    .dataframe tbody tr th {\n",
       "        vertical-align: top;\n",
       "    }\n",
       "\n",
       "    .dataframe thead th {\n",
       "        text-align: right;\n",
       "    }\n",
       "</style>\n",
       "<table border=\"1\" class=\"dataframe\">\n",
       "  <thead>\n",
       "    <tr style=\"text-align: right;\">\n",
       "      <th></th>\n",
       "      <th>Название</th>\n",
       "      <th>Цена</th>\n",
       "      <th>год выпуска</th>\n",
       "      <th>Пробег</th>\n",
       "      <th>Кузов</th>\n",
       "      <th>Цвет</th>\n",
       "      <th>Двигатель</th>\n",
       "      <th>engineDisplacement</th>\n",
       "      <th>enginePower</th>\n",
       "      <th>fuelType</th>\n",
       "      <th>...</th>\n",
       "      <th>fuel_rate</th>\n",
       "      <th>modelDate</th>\n",
       "      <th>model_name</th>\n",
       "      <th>url</th>\n",
       "      <th>brand</th>\n",
       "      <th>Обмен</th>\n",
       "      <th>Гарантия</th>\n",
       "      <th>Кузов №</th>\n",
       "      <th>Запас хода</th>\n",
       "      <th>Статус</th>\n",
       "    </tr>\n",
       "  </thead>\n",
       "  <tbody>\n",
       "    <tr>\n",
       "      <th>0</th>\n",
       "      <td>Audi A2 2000-2007</td>\n",
       "      <td>265000₽</td>\n",
       "      <td>2001</td>\n",
       "      <td>240 000 км</td>\n",
       "      <td>хэтчбек 5 дв.</td>\n",
       "      <td>чёрный</td>\n",
       "      <td>1.4 л / 75 л.с. / Бензин</td>\n",
       "      <td>1.4 л</td>\n",
       "      <td>75 л.с.</td>\n",
       "      <td>Бензин</td>\n",
       "      <td>...</td>\n",
       "      <td>6 л</td>\n",
       "      <td>2000</td>\n",
       "      <td>A2</td>\n",
       "      <td>https://auto.ru/cars/used/sale/audi/a2/1089736...</td>\n",
       "      <td>AUDI</td>\n",
       "      <td>NaN</td>\n",
       "      <td>NaN</td>\n",
       "      <td>NaN</td>\n",
       "      <td>NaN</td>\n",
       "      <td>NaN</td>\n",
       "    </tr>\n",
       "    <tr>\n",
       "      <th>1</th>\n",
       "      <td>Audi A2 2000-2007</td>\n",
       "      <td>390000₽</td>\n",
       "      <td>2001</td>\n",
       "      <td>118 000 км</td>\n",
       "      <td>хэтчбек 5 дв.</td>\n",
       "      <td>серебристый</td>\n",
       "      <td>1.2 л / 61 л.с. / Дизель</td>\n",
       "      <td>1.2 л</td>\n",
       "      <td>61 л.с.</td>\n",
       "      <td>Дизель</td>\n",
       "      <td>...</td>\n",
       "      <td>2.99 л</td>\n",
       "      <td>2000</td>\n",
       "      <td>A2</td>\n",
       "      <td>https://auto.ru/cars/used/sale/audi/a2/1102039...</td>\n",
       "      <td>AUDI</td>\n",
       "      <td>Рассмотрю варианты</td>\n",
       "      <td>NaN</td>\n",
       "      <td>NaN</td>\n",
       "      <td>NaN</td>\n",
       "      <td>NaN</td>\n",
       "    </tr>\n",
       "  </tbody>\n",
       "</table>\n",
       "<p>2 rows × 37 columns</p>\n",
       "</div>"
      ],
      "text/plain": [
       "            Название     Цена  год выпуска      Пробег          Кузов  \\\n",
       "0  Audi A2 2000-2007  265000₽         2001  240 000 км  хэтчбек 5 дв.   \n",
       "1  Audi A2 2000-2007  390000₽         2001  118 000 км  хэтчбек 5 дв.   \n",
       "\n",
       "          Цвет                 Двигатель engineDisplacement enginePower  \\\n",
       "0       чёрный  1.4 л / 75 л.с. / Бензин              1.4 л     75 л.с.   \n",
       "1  серебристый  1.2 л / 61 л.с. / Дизель              1.2 л     61 л.с.   \n",
       "\n",
       "  fuelType  ... fuel_rate modelDate model_name  \\\n",
       "0   Бензин  ...       6 л      2000         A2   \n",
       "1   Дизель  ...    2.99 л      2000         A2   \n",
       "\n",
       "                                                 url brand  \\\n",
       "0  https://auto.ru/cars/used/sale/audi/a2/1089736...  AUDI   \n",
       "1  https://auto.ru/cars/used/sale/audi/a2/1102039...  AUDI   \n",
       "\n",
       "                Обмен Гарантия Кузов № Запас хода Статус  \n",
       "0                 NaN      NaN     NaN        NaN    NaN  \n",
       "1  Рассмотрю варианты      NaN     NaN        NaN    NaN  \n",
       "\n",
       "[2 rows x 37 columns]"
      ]
     },
     "execution_count": 611,
     "metadata": {},
     "output_type": "execute_result"
    }
   ],
   "source": [
    "df.head(2)"
   ]
  },
  {
   "cell_type": "code",
   "execution_count": 612,
   "metadata": {},
   "outputs": [
    {
     "name": "stdout",
     "output_type": "stream",
     "text": [
      "<class 'pandas.core.frame.DataFrame'>\n",
      "Int64Index: 103890 entries, 0 to 104253\n",
      "Data columns (total 37 columns):\n",
      " #   Column              Non-Null Count   Dtype  \n",
      "---  ------              --------------   -----  \n",
      " 0   Название            103890 non-null  object \n",
      " 1   Цена                103890 non-null  object \n",
      " 2   год выпуска         103890 non-null  int64  \n",
      " 3   Пробег              103890 non-null  object \n",
      " 4   Кузов               103890 non-null  object \n",
      " 5   Цвет                103890 non-null  object \n",
      " 6   Двигатель           103890 non-null  object \n",
      " 7   engineDisplacement  103890 non-null  object \n",
      " 8   enginePower         103890 non-null  object \n",
      " 9   fuelType            103890 non-null  object \n",
      " 10  Налог               101300 non-null  object \n",
      " 11  Коробка             103890 non-null  object \n",
      " 12  Привод              103890 non-null  object \n",
      " 13  Руль                103890 non-null  object \n",
      " 14  Состояние           103890 non-null  object \n",
      " 15  Владельцы           103875 non-null  object \n",
      " 16  ПТС                 103885 non-null  object \n",
      " 17  Владение            29877 non-null   object \n",
      " 18  Таможня             103890 non-null  object \n",
      " 19  VIN                 90737 non-null   object \n",
      " 20  Госномер            79188 non-null   object \n",
      " 21  vendor              103890 non-null  object \n",
      " 22  numberOfDoors       103890 non-null  int64  \n",
      " 23  clearance_min       103316 non-null  object \n",
      " 24  acceleration        88119 non-null   float64\n",
      " 25  displacement        103890 non-null  float64\n",
      " 26  power_kvt           103890 non-null  int64  \n",
      " 27  fuel_rate           88914 non-null   object \n",
      " 28  modelDate           103890 non-null  int64  \n",
      " 29  model_name          103890 non-null  object \n",
      " 30  url                 103890 non-null  object \n",
      " 31  brand               103890 non-null  object \n",
      " 32  Обмен               31104 non-null   object \n",
      " 33  Гарантия            5533 non-null    object \n",
      " 34  Кузов №             10487 non-null   object \n",
      " 35  Запас хода          34 non-null      object \n",
      " 36  Статус              52 non-null      object \n",
      "dtypes: float64(2), int64(4), object(31)\n",
      "memory usage: 30.1+ MB\n"
     ]
    }
   ],
   "source": [
    "df.info()"
   ]
  },
  {
   "cell_type": "code",
   "execution_count": 613,
   "metadata": {},
   "outputs": [],
   "source": [
    "df['engineDisplacement'] = df['engineDisplacement'].apply(lambda x: float(x[:-5]) if 'л.с.' in x else float(x[:-2])) "
   ]
  },
  {
   "cell_type": "code",
   "execution_count": 614,
   "metadata": {},
   "outputs": [],
   "source": [
    "df['acceleration'] = df['acceleration'].fillna(df[df['acceleration'].isnull() == False]['acceleration'].median())"
   ]
  },
  {
   "cell_type": "code",
   "execution_count": 615,
   "metadata": {},
   "outputs": [],
   "source": [
    "df['fuel_rate'] = df[df['fuel_rate'].isnull() == False]['fuel_rate'].apply(lambda x: float(x[:-2]))"
   ]
  },
  {
   "cell_type": "code",
   "execution_count": 616,
   "metadata": {},
   "outputs": [],
   "source": [
    "df['fuel_rate'] = df['fuel_rate'].fillna(df[df['fuel_rate'].isnull() == False]['fuel_rate'].median())"
   ]
  },
  {
   "cell_type": "code",
   "execution_count": 617,
   "metadata": {},
   "outputs": [],
   "source": [
    "df['clearance_min'] = df['clearance_min'].fillna('NaN')"
   ]
  },
  {
   "cell_type": "code",
   "execution_count": 618,
   "metadata": {},
   "outputs": [],
   "source": [
    "df['clearance_min'] = df['clearance_min'].apply(lambda x: x.split(', ')[0] if ', ' in x else x)"
   ]
  },
  {
   "cell_type": "code",
   "execution_count": 619,
   "metadata": {},
   "outputs": [
    {
     "data": {
      "text/plain": [
       "'175'"
      ]
     },
     "execution_count": 619,
     "metadata": {},
     "output_type": "execute_result"
    }
   ],
   "source": [
    "electro['clearance_min'][7157]"
   ]
  },
  {
   "cell_type": "code",
   "execution_count": 620,
   "metadata": {},
   "outputs": [],
   "source": [
    "electro.insert(loc = 7, \n",
    "          column = 'engineDisplacement', \n",
    "          value = 0)"
   ]
  },
  {
   "cell_type": "code",
   "execution_count": 621,
   "metadata": {},
   "outputs": [],
   "source": [
    "electro.insert(loc = 8, \n",
    "          column = 'enginePower', \n",
    "          value = electro['Двигатель'].apply(lambda x: x.split(' / ', 2)[0]))"
   ]
  },
  {
   "cell_type": "code",
   "execution_count": 622,
   "metadata": {},
   "outputs": [],
   "source": [
    "electro.insert(loc = 9, \n",
    "          column = 'fuelType', \n",
    "          value = electro['Двигатель'].apply(lambda x: x.split(' / ', 3)[2]))"
   ]
  },
  {
   "cell_type": "code",
   "execution_count": 623,
   "metadata": {},
   "outputs": [
    {
     "data": {
      "text/html": [
       "<div>\n",
       "<style scoped>\n",
       "    .dataframe tbody tr th:only-of-type {\n",
       "        vertical-align: middle;\n",
       "    }\n",
       "\n",
       "    .dataframe tbody tr th {\n",
       "        vertical-align: top;\n",
       "    }\n",
       "\n",
       "    .dataframe thead th {\n",
       "        text-align: right;\n",
       "    }\n",
       "</style>\n",
       "<table border=\"1\" class=\"dataframe\">\n",
       "  <thead>\n",
       "    <tr style=\"text-align: right;\">\n",
       "      <th></th>\n",
       "      <th>Название</th>\n",
       "      <th>Цена</th>\n",
       "      <th>год выпуска</th>\n",
       "      <th>Пробег</th>\n",
       "      <th>Кузов</th>\n",
       "      <th>Цвет</th>\n",
       "      <th>Двигатель</th>\n",
       "      <th>engineDisplacement</th>\n",
       "      <th>enginePower</th>\n",
       "      <th>fuelType</th>\n",
       "      <th>...</th>\n",
       "      <th>fuel_rate</th>\n",
       "      <th>modelDate</th>\n",
       "      <th>model_name</th>\n",
       "      <th>url</th>\n",
       "      <th>brand</th>\n",
       "      <th>Обмен</th>\n",
       "      <th>Гарантия</th>\n",
       "      <th>Кузов №</th>\n",
       "      <th>Запас хода</th>\n",
       "      <th>Статус</th>\n",
       "    </tr>\n",
       "  </thead>\n",
       "  <tbody>\n",
       "    <tr>\n",
       "      <th>7157</th>\n",
       "      <td>Audi e-tron I</td>\n",
       "      <td>6482187₽</td>\n",
       "      <td>2019</td>\n",
       "      <td>18 500 км</td>\n",
       "      <td>внедорожник 5 дв.</td>\n",
       "      <td>серый</td>\n",
       "      <td>408 л.с. / 300 кВт / Электро</td>\n",
       "      <td>0</td>\n",
       "      <td>408 л.с.</td>\n",
       "      <td>Электро</td>\n",
       "      <td>...</td>\n",
       "      <td>NaN</td>\n",
       "      <td>2018</td>\n",
       "      <td>E_TRON</td>\n",
       "      <td>https://auto.ru/cars/used/sale/audi/e_tron/110...</td>\n",
       "      <td>AUDI</td>\n",
       "      <td>NaN</td>\n",
       "      <td>NaN</td>\n",
       "      <td>NaN</td>\n",
       "      <td>436 км</td>\n",
       "      <td>NaN</td>\n",
       "    </tr>\n",
       "    <tr>\n",
       "      <th>7158</th>\n",
       "      <td>Audi e-tron I</td>\n",
       "      <td>6504198₽</td>\n",
       "      <td>2019</td>\n",
       "      <td>11 650 км</td>\n",
       "      <td>внедорожник 5 дв.</td>\n",
       "      <td>голубой</td>\n",
       "      <td>408 л.с. / 300 кВт / Электро</td>\n",
       "      <td>0</td>\n",
       "      <td>408 л.с.</td>\n",
       "      <td>Электро</td>\n",
       "      <td>...</td>\n",
       "      <td>NaN</td>\n",
       "      <td>2018</td>\n",
       "      <td>E_TRON</td>\n",
       "      <td>https://auto.ru/cars/used/sale/audi/e_tron/110...</td>\n",
       "      <td>AUDI</td>\n",
       "      <td>NaN</td>\n",
       "      <td>До марта 2025</td>\n",
       "      <td>NaN</td>\n",
       "      <td>436 км</td>\n",
       "      <td>NaN</td>\n",
       "    </tr>\n",
       "  </tbody>\n",
       "</table>\n",
       "<p>2 rows × 37 columns</p>\n",
       "</div>"
      ],
      "text/plain": [
       "           Название      Цена  год выпуска     Пробег              Кузов  \\\n",
       "7157  Audi e-tron I  6482187₽         2019  18 500 км  внедорожник 5 дв.   \n",
       "7158  Audi e-tron I  6504198₽         2019  11 650 км  внедорожник 5 дв.   \n",
       "\n",
       "         Цвет                     Двигатель  engineDisplacement enginePower  \\\n",
       "7157    серый  408 л.с. / 300 кВт / Электро                   0    408 л.с.   \n",
       "7158  голубой  408 л.с. / 300 кВт / Электро                   0    408 л.с.   \n",
       "\n",
       "     fuelType  ... fuel_rate modelDate model_name  \\\n",
       "7157  Электро  ...       NaN      2018     E_TRON   \n",
       "7158  Электро  ...       NaN      2018     E_TRON   \n",
       "\n",
       "                                                    url brand Обмен  \\\n",
       "7157  https://auto.ru/cars/used/sale/audi/e_tron/110...  AUDI   NaN   \n",
       "7158  https://auto.ru/cars/used/sale/audi/e_tron/110...  AUDI   NaN   \n",
       "\n",
       "           Гарантия Кузов № Запас хода Статус  \n",
       "7157            NaN     NaN     436 км    NaN  \n",
       "7158  До марта 2025     NaN     436 км    NaN  \n",
       "\n",
       "[2 rows x 37 columns]"
      ]
     },
     "execution_count": 623,
     "metadata": {},
     "output_type": "execute_result"
    }
   ],
   "source": [
    "electro.head(2)"
   ]
  },
  {
   "cell_type": "code",
   "execution_count": 624,
   "metadata": {},
   "outputs": [
    {
     "name": "stdout",
     "output_type": "stream",
     "text": [
      "<class 'pandas.core.frame.DataFrame'>\n",
      "Int64Index: 364 entries, 7157 to 93686\n",
      "Data columns (total 37 columns):\n",
      " #   Column              Non-Null Count  Dtype  \n",
      "---  ------              --------------  -----  \n",
      " 0   Название            364 non-null    object \n",
      " 1   Цена                364 non-null    object \n",
      " 2   год выпуска         364 non-null    int64  \n",
      " 3   Пробег              364 non-null    object \n",
      " 4   Кузов               364 non-null    object \n",
      " 5   Цвет                364 non-null    object \n",
      " 6   Двигатель           364 non-null    object \n",
      " 7   engineDisplacement  364 non-null    int64  \n",
      " 8   enginePower         364 non-null    object \n",
      " 9   fuelType            364 non-null    object \n",
      " 10  Налог               336 non-null    object \n",
      " 11  Коробка             364 non-null    object \n",
      " 12  Привод              364 non-null    object \n",
      " 13  Руль                364 non-null    object \n",
      " 14  Состояние           364 non-null    object \n",
      " 15  Владельцы           364 non-null    object \n",
      " 16  ПТС                 364 non-null    object \n",
      " 17  Владение            140 non-null    object \n",
      " 18  Таможня             364 non-null    object \n",
      " 19  VIN                 90 non-null     object \n",
      " 20  Госномер            222 non-null    object \n",
      " 21  vendor              364 non-null    object \n",
      " 22  numberOfDoors       364 non-null    int64  \n",
      " 23  clearance_min       364 non-null    object \n",
      " 24  acceleration        356 non-null    float64\n",
      " 25  displacement        0 non-null      float64\n",
      " 26  power_kvt           364 non-null    int64  \n",
      " 27  fuel_rate           0 non-null      object \n",
      " 28  modelDate           364 non-null    int64  \n",
      " 29  model_name          364 non-null    object \n",
      " 30  url                 364 non-null    object \n",
      " 31  brand               364 non-null    object \n",
      " 32  Обмен               62 non-null     object \n",
      " 33  Гарантия            6 non-null      object \n",
      " 34  Кузов №             232 non-null    object \n",
      " 35  Запас хода          356 non-null    object \n",
      " 36  Статус              0 non-null      object \n",
      "dtypes: float64(2), int64(5), object(30)\n",
      "memory usage: 118.1+ KB\n"
     ]
    }
   ],
   "source": [
    "electro.info()"
   ]
  },
  {
   "cell_type": "markdown",
   "metadata": {},
   "source": [
    "#### Значение поставили на ноль, так как топлива в электрокаров нет "
   ]
  },
  {
   "cell_type": "code",
   "execution_count": 625,
   "metadata": {},
   "outputs": [],
   "source": [
    "electro['displacement'] = 0"
   ]
  },
  {
   "cell_type": "code",
   "execution_count": 626,
   "metadata": {},
   "outputs": [],
   "source": [
    "electro['fuel_rate'] = 0"
   ]
  },
  {
   "cell_type": "code",
   "execution_count": 627,
   "metadata": {},
   "outputs": [],
   "source": [
    "electro['acceleration'] = electro['acceleration'].fillna(electro[electro['acceleration'].isnull() == False]['acceleration'].median())"
   ]
  },
  {
   "cell_type": "code",
   "execution_count": 628,
   "metadata": {},
   "outputs": [
    {
     "data": {
      "text/plain": [
       "7157      5.7\n",
       "7158      5.7\n",
       "15831     7.3\n",
       "15833     7.2\n",
       "15835     6.9\n",
       "         ... \n",
       "93675    11.5\n",
       "93676    11.5\n",
       "93677    11.5\n",
       "93680    11.5\n",
       "93686    11.5\n",
       "Name: acceleration, Length: 364, dtype: float64"
      ]
     },
     "execution_count": 628,
     "metadata": {},
     "output_type": "execute_result"
    }
   ],
   "source": [
    "electro['acceleration']"
   ]
  },
  {
   "cell_type": "code",
   "execution_count": 629,
   "metadata": {},
   "outputs": [
    {
     "name": "stdout",
     "output_type": "stream",
     "text": [
      "<class 'pandas.core.frame.DataFrame'>\n",
      "Int64Index: 364 entries, 7157 to 93686\n",
      "Data columns (total 37 columns):\n",
      " #   Column              Non-Null Count  Dtype  \n",
      "---  ------              --------------  -----  \n",
      " 0   Название            364 non-null    object \n",
      " 1   Цена                364 non-null    object \n",
      " 2   год выпуска         364 non-null    int64  \n",
      " 3   Пробег              364 non-null    object \n",
      " 4   Кузов               364 non-null    object \n",
      " 5   Цвет                364 non-null    object \n",
      " 6   Двигатель           364 non-null    object \n",
      " 7   engineDisplacement  364 non-null    int64  \n",
      " 8   enginePower         364 non-null    object \n",
      " 9   fuelType            364 non-null    object \n",
      " 10  Налог               336 non-null    object \n",
      " 11  Коробка             364 non-null    object \n",
      " 12  Привод              364 non-null    object \n",
      " 13  Руль                364 non-null    object \n",
      " 14  Состояние           364 non-null    object \n",
      " 15  Владельцы           364 non-null    object \n",
      " 16  ПТС                 364 non-null    object \n",
      " 17  Владение            140 non-null    object \n",
      " 18  Таможня             364 non-null    object \n",
      " 19  VIN                 90 non-null     object \n",
      " 20  Госномер            222 non-null    object \n",
      " 21  vendor              364 non-null    object \n",
      " 22  numberOfDoors       364 non-null    int64  \n",
      " 23  clearance_min       364 non-null    object \n",
      " 24  acceleration        364 non-null    float64\n",
      " 25  displacement        364 non-null    int64  \n",
      " 26  power_kvt           364 non-null    int64  \n",
      " 27  fuel_rate           364 non-null    int64  \n",
      " 28  modelDate           364 non-null    int64  \n",
      " 29  model_name          364 non-null    object \n",
      " 30  url                 364 non-null    object \n",
      " 31  brand               364 non-null    object \n",
      " 32  Обмен               62 non-null     object \n",
      " 33  Гарантия            6 non-null      object \n",
      " 34  Кузов №             232 non-null    object \n",
      " 35  Запас хода          356 non-null    object \n",
      " 36  Статус              0 non-null      object \n",
      "dtypes: float64(1), int64(7), object(29)\n",
      "memory usage: 118.1+ KB\n"
     ]
    }
   ],
   "source": [
    "electro.info()"
   ]
  },
  {
   "cell_type": "markdown",
   "metadata": {},
   "source": [
    "#### Объеденяем с электрокарами"
   ]
  },
  {
   "cell_type": "code",
   "execution_count": 630,
   "metadata": {},
   "outputs": [],
   "source": [
    "df = pd.concat([df, electro], ignore_index = True)"
   ]
  },
  {
   "cell_type": "markdown",
   "metadata": {},
   "source": [
    "#### Нужно убрать валюту с цены (Рубль), чтобы сделать колонку числовым типом"
   ]
  },
  {
   "cell_type": "code",
   "execution_count": 631,
   "metadata": {},
   "outputs": [
    {
     "data": {
      "text/plain": [
       "0    265000₽\n",
       "1    390000₽\n",
       "2    210000₽\n",
       "3    325000₽\n",
       "4    390000₽\n",
       "Name: Цена, dtype: object"
      ]
     },
     "execution_count": 631,
     "metadata": {},
     "output_type": "execute_result"
    }
   ],
   "source": [
    "df['Цена'].head()"
   ]
  },
  {
   "cell_type": "code",
   "execution_count": 632,
   "metadata": {},
   "outputs": [],
   "source": [
    "df['Цена'] = df['Цена'].apply(lambda x: int(x[3:-1]) if ('от' in x) else int(x[:-1]))"
   ]
  },
  {
   "cell_type": "code",
   "execution_count": 633,
   "metadata": {},
   "outputs": [],
   "source": [
    "import re"
   ]
  },
  {
   "cell_type": "code",
   "execution_count": 634,
   "metadata": {},
   "outputs": [],
   "source": [
    "df['Пробег'] = df['Пробег'].apply(lambda x: int(re.sub(r'(\\d)\\s+(\\d)', r'\\1\\2', x[:-3])))"
   ]
  },
  {
   "cell_type": "code",
   "execution_count": 635,
   "metadata": {},
   "outputs": [],
   "source": [
    "df['enginePower'] = df['enginePower'].apply(lambda x: float(x[:-4]) if 'кВт' in x else float(x[:-5])) "
   ]
  },
  {
   "cell_type": "markdown",
   "metadata": {},
   "source": [
    "#### Изменили наименование колонок под тест"
   ]
  },
  {
   "cell_type": "code",
   "execution_count": 636,
   "metadata": {},
   "outputs": [],
   "source": [
    "df = df.rename({\"Кузов\":\"bodyType\",\"Марка\":\"brand\", \"Цвет\": \"color\", \"Пробег\": \"mileage\", \"год выпуска\": \"productionDate\", \"Model\": \"brand\", \"Коробка\": \"vehicleTransmission\"}, axis='columns')"
   ]
  },
  {
   "cell_type": "code",
   "execution_count": 637,
   "metadata": {},
   "outputs": [
    {
     "data": {
      "text/plain": [
       "Index(['bodyType', 'brand', 'color', 'engineDisplacement', 'enginePower',\n",
       "       'fuelType', 'mileage', 'modelDate', 'model_name', 'numberOfDoors',\n",
       "       'productionDate', 'vehicleTransmission', 'vendor', 'Владельцы',\n",
       "       'Владение', 'ПТС', 'Привод', 'Руль', 'Состояние', 'Таможня',\n",
       "       'acceleration', 'clearance_min', 'power_kvt', 'displacement',\n",
       "       'fuel_rate'],\n",
       "      dtype='object')"
      ]
     },
     "execution_count": 637,
     "metadata": {},
     "output_type": "execute_result"
    }
   ],
   "source": [
    "test.columns"
   ]
  },
  {
   "cell_type": "markdown",
   "metadata": {},
   "source": [
    "#### Датафрейм у которого очередность колонок такая же как в тест "
   ]
  },
  {
   "cell_type": "code",
   "execution_count": 638,
   "metadata": {},
   "outputs": [],
   "source": [
    "data = pd.DataFrame()\n",
    "for i in ['bodyType', 'brand', 'color', 'engineDisplacement', 'enginePower',\n",
    "       'fuelType', 'mileage', 'modelDate', 'model_name', 'numberOfDoors',\n",
    "       'productionDate', 'vehicleTransmission', 'vendor', 'Владельцы',\n",
    "       'Владение', 'ПТС', 'Привод', 'Руль', 'Состояние', 'Таможня', 'Цена'\n",
    "       ,'acceleration', 'clearance_min', 'power_kvt', 'displacement',\n",
    "       'fuel_rate']:\n",
    "    data[f'{i}'] = df[f'{i}']"
   ]
  },
  {
   "cell_type": "code",
   "execution_count": 639,
   "metadata": {},
   "outputs": [
    {
     "name": "stdout",
     "output_type": "stream",
     "text": [
      "<class 'pandas.core.frame.DataFrame'>\n",
      "RangeIndex: 104254 entries, 0 to 104253\n",
      "Data columns (total 26 columns):\n",
      " #   Column               Non-Null Count   Dtype  \n",
      "---  ------               --------------   -----  \n",
      " 0   bodyType             104254 non-null  object \n",
      " 1   brand                104254 non-null  object \n",
      " 2   color                104254 non-null  object \n",
      " 3   engineDisplacement   104254 non-null  float64\n",
      " 4   enginePower          104254 non-null  float64\n",
      " 5   fuelType             104254 non-null  object \n",
      " 6   mileage              104254 non-null  int64  \n",
      " 7   modelDate            104254 non-null  int64  \n",
      " 8   model_name           104254 non-null  object \n",
      " 9   numberOfDoors        104254 non-null  int64  \n",
      " 10  productionDate       104254 non-null  int64  \n",
      " 11  vehicleTransmission  104254 non-null  object \n",
      " 12  vendor               104254 non-null  object \n",
      " 13  Владельцы            104239 non-null  object \n",
      " 14  Владение             30017 non-null   object \n",
      " 15  ПТС                  104249 non-null  object \n",
      " 16  Привод               104254 non-null  object \n",
      " 17  Руль                 104254 non-null  object \n",
      " 18  Состояние            104254 non-null  object \n",
      " 19  Таможня              104254 non-null  object \n",
      " 20  Цена                 104254 non-null  int64  \n",
      " 21  acceleration         104254 non-null  float64\n",
      " 22  clearance_min        104254 non-null  object \n",
      " 23  power_kvt            104254 non-null  int64  \n",
      " 24  displacement         104254 non-null  float64\n",
      " 25  fuel_rate            104254 non-null  float64\n",
      "dtypes: float64(5), int64(6), object(15)\n",
      "memory usage: 20.7+ MB\n"
     ]
    }
   ],
   "source": [
    "data.info()"
   ]
  },
  {
   "cell_type": "code",
   "execution_count": 640,
   "metadata": {},
   "outputs": [],
   "source": [
    "data.to_csv('data.csv', index=False) # Cheockpoint"
   ]
  },
  {
   "cell_type": "markdown",
   "metadata": {},
   "source": [
    "#### Обозначим трейн и тест перед их объеденением."
   ]
  },
  {
   "cell_type": "code",
   "execution_count": 641,
   "metadata": {},
   "outputs": [],
   "source": [
    "test['label'] = 1\n",
    "data['label'] = 0"
   ]
  },
  {
   "cell_type": "code",
   "execution_count": 642,
   "metadata": {},
   "outputs": [],
   "source": [
    "combined = pd.concat([data, test], ignore_index=True)"
   ]
  },
  {
   "cell_type": "code",
   "execution_count": 643,
   "metadata": {},
   "outputs": [
    {
     "name": "stdout",
     "output_type": "stream",
     "text": [
      "<class 'pandas.core.frame.DataFrame'>\n",
      "RangeIndex: 138940 entries, 0 to 138939\n",
      "Data columns (total 27 columns):\n",
      " #   Column               Non-Null Count   Dtype  \n",
      "---  ------               --------------   -----  \n",
      " 0   bodyType             138940 non-null  object \n",
      " 1   brand                138940 non-null  object \n",
      " 2   color                138940 non-null  object \n",
      " 3   engineDisplacement   138940 non-null  float64\n",
      " 4   enginePower          138940 non-null  float64\n",
      " 5   fuelType             138940 non-null  object \n",
      " 6   mileage              138940 non-null  int64  \n",
      " 7   modelDate            138940 non-null  int64  \n",
      " 8   model_name           138940 non-null  object \n",
      " 9   numberOfDoors        138940 non-null  int64  \n",
      " 10  productionDate       138940 non-null  int64  \n",
      " 11  vehicleTransmission  138940 non-null  object \n",
      " 12  vendor               138940 non-null  object \n",
      " 13  Владельцы            138925 non-null  object \n",
      " 14  Владение             42012 non-null   object \n",
      " 15  ПТС                  138934 non-null  object \n",
      " 16  Привод               138940 non-null  object \n",
      " 17  Руль                 138940 non-null  object \n",
      " 18  Состояние            138940 non-null  object \n",
      " 19  Таможня              138940 non-null  object \n",
      " 20  Цена                 104254 non-null  float64\n",
      " 21  acceleration         138940 non-null  object \n",
      " 22  clearance_min        138940 non-null  object \n",
      " 23  power_kvt            138940 non-null  int64  \n",
      " 24  displacement         138940 non-null  float64\n",
      " 25  fuel_rate            138940 non-null  object \n",
      " 26  label                138940 non-null  int64  \n",
      "dtypes: float64(4), int64(6), object(17)\n",
      "memory usage: 28.6+ MB\n"
     ]
    }
   ],
   "source": [
    "combined.info()"
   ]
  },
  {
   "cell_type": "markdown",
   "metadata": {},
   "source": [
    "### Предобработка"
   ]
  },
  {
   "cell_type": "code",
   "execution_count": 644,
   "metadata": {},
   "outputs": [],
   "source": [
    "combined.loc[combined[combined['fuelType'] == 'электро']['fuel_rate'].replace('NaN', 0).index, 'fuel_rate'] = 0"
   ]
  },
  {
   "cell_type": "code",
   "execution_count": 645,
   "metadata": {},
   "outputs": [],
   "source": [
    "combined.loc[combined[combined['fuel_rate'] == 'NaN'].index, 'fuel_rate'] = combined['fuel_rate'].median()"
   ]
  },
  {
   "cell_type": "code",
   "execution_count": 646,
   "metadata": {},
   "outputs": [],
   "source": [
    "combined.loc[combined[combined['fuel_rate'] == 'NaN'].index, 'fuel_rate'] = combined['fuel_rate'].median()"
   ]
  },
  {
   "cell_type": "code",
   "execution_count": 647,
   "metadata": {},
   "outputs": [],
   "source": [
    "combined.loc[combined[combined['acceleration'] == 'NaN'].index, 'acceleration'] = combined['acceleration'].median()"
   ]
  },
  {
   "cell_type": "code",
   "execution_count": 648,
   "metadata": {},
   "outputs": [],
   "source": [
    "combined['acceleration'] = combined['acceleration'].apply(lambda x: float(x))"
   ]
  },
  {
   "cell_type": "code",
   "execution_count": 649,
   "metadata": {},
   "outputs": [],
   "source": [
    "combined.loc[combined[combined['clearance_min'] == 'NaN'].index, 'clearance_min'] = combined['clearance_min'].median()"
   ]
  },
  {
   "cell_type": "code",
   "execution_count": 650,
   "metadata": {},
   "outputs": [],
   "source": [
    "combined['clearance_min'] = combined['clearance_min'].apply(lambda x: float(x))"
   ]
  },
  {
   "cell_type": "code",
   "execution_count": 651,
   "metadata": {},
   "outputs": [
    {
     "name": "stdout",
     "output_type": "stream",
     "text": [
      "<class 'pandas.core.frame.DataFrame'>\n",
      "RangeIndex: 138940 entries, 0 to 138939\n",
      "Data columns (total 27 columns):\n",
      " #   Column               Non-Null Count   Dtype  \n",
      "---  ------               --------------   -----  \n",
      " 0   bodyType             138940 non-null  object \n",
      " 1   brand                138940 non-null  object \n",
      " 2   color                138940 non-null  object \n",
      " 3   engineDisplacement   138940 non-null  float64\n",
      " 4   enginePower          138940 non-null  float64\n",
      " 5   fuelType             138940 non-null  object \n",
      " 6   mileage              138940 non-null  int64  \n",
      " 7   modelDate            138940 non-null  int64  \n",
      " 8   model_name           138940 non-null  object \n",
      " 9   numberOfDoors        138940 non-null  int64  \n",
      " 10  productionDate       138940 non-null  int64  \n",
      " 11  vehicleTransmission  138940 non-null  object \n",
      " 12  vendor               138940 non-null  object \n",
      " 13  Владельцы            138925 non-null  object \n",
      " 14  Владение             42012 non-null   object \n",
      " 15  ПТС                  138934 non-null  object \n",
      " 16  Привод               138940 non-null  object \n",
      " 17  Руль                 138940 non-null  object \n",
      " 18  Состояние            138940 non-null  object \n",
      " 19  Таможня              138940 non-null  object \n",
      " 20  Цена                 104254 non-null  float64\n",
      " 21  acceleration         138940 non-null  float64\n",
      " 22  clearance_min        138940 non-null  float64\n",
      " 23  power_kvt            138940 non-null  int64  \n",
      " 24  displacement         138940 non-null  float64\n",
      " 25  fuel_rate            138940 non-null  object \n",
      " 26  label                138940 non-null  int64  \n",
      "dtypes: float64(6), int64(6), object(15)\n",
      "memory usage: 28.6+ MB\n"
     ]
    }
   ],
   "source": [
    "combined.info()"
   ]
  },
  {
   "cell_type": "code",
   "execution_count": 652,
   "metadata": {},
   "outputs": [],
   "source": [
    "combined['ПТС'] = combined['ПТС'].fillna('Оригинал') # Заполним пустые значения в ПТС самым распростронённым"
   ]
  },
  {
   "cell_type": "code",
   "execution_count": 653,
   "metadata": {},
   "outputs": [],
   "source": [
    "combined['fuelType'] = combined['fuelType'].apply(lambda x: 'бензин' if x == 'Бензин' else x)\n",
    "combined['fuelType'] = combined['fuelType'].apply(lambda x: 'дизель' if x == 'Дизель' else x)\n",
    "combined['fuelType'] = combined['fuelType'].apply(lambda x: 'гибрид' if x == 'Гибрид' else x)"
   ]
  },
  {
   "cell_type": "code",
   "execution_count": 654,
   "metadata": {},
   "outputs": [],
   "source": [
    "combined['fuelType'] = combined['fuelType'].apply(lambda x: 'газ' if x == 'Бензин, газобаллонное оборудование' else x)"
   ]
  },
  {
   "cell_type": "code",
   "execution_count": 655,
   "metadata": {},
   "outputs": [],
   "source": [
    "combined['fuelType'] = combined['fuelType'].apply(lambda x: 'газ' if x == 'Газ, газобаллонное оборудование' else x)\n",
    "combined['fuelType'] = combined['fuelType'].apply(lambda x: 'газ' if x == 'Гибрид, газобаллонное оборудование' else x)\n",
    "combined['fuelType'] = combined['fuelType'].apply(lambda x: 'электро' if x == 'Электро' else x)\n",
    "combined['fuelType'] = combined['fuelType'].apply(lambda x: 'газ' if x == 'Газ' else x)"
   ]
  },
  {
   "cell_type": "code",
   "execution_count": 656,
   "metadata": {},
   "outputs": [],
   "source": [
    "combined['fuelType'] = combined['fuelType'].apply(lambda x: 'газ' if x == 'Дизель, газобаллонное оборудование' else x)"
   ]
  },
  {
   "cell_type": "code",
   "execution_count": 657,
   "metadata": {},
   "outputs": [
    {
     "data": {
      "text/plain": [
       "OCTAVIA    4336\n",
       "5ER        4031\n",
       "A6         2793\n",
       "LANCER     2645\n",
       "3ER        2555\n",
       "           ... \n",
       "2             1\n",
       "ORIGIN        1\n",
       "M1            1\n",
       "140           1\n",
       "POPULAR       1\n",
       "Name: model_name, Length: 545, dtype: int64"
      ]
     },
     "execution_count": 657,
     "metadata": {},
     "output_type": "execute_result"
    }
   ],
   "source": [
    "combined['model_name'].value_counts()"
   ]
  },
  {
   "cell_type": "markdown",
   "metadata": {},
   "source": [
    "####  Импортируем LabelEncoder для работы с категориальными данными"
   ]
  },
  {
   "cell_type": "code",
   "execution_count": 658,
   "metadata": {},
   "outputs": [],
   "source": [
    "from sklearn.preprocessing import LabelEncoder "
   ]
  },
  {
   "cell_type": "code",
   "execution_count": 659,
   "metadata": {},
   "outputs": [],
   "source": [
    "combined['Привод'] = pd.Series(LabelEncoder().fit_transform(combined['Привод']))"
   ]
  },
  {
   "cell_type": "code",
   "execution_count": 660,
   "metadata": {},
   "outputs": [],
   "source": [
    "combined['ПТС'] = pd.Series(LabelEncoder().fit_transform(combined['ПТС']))"
   ]
  },
  {
   "cell_type": "code",
   "execution_count": 661,
   "metadata": {},
   "outputs": [
    {
     "data": {
      "text/plain": [
       "Япония      53016\n",
       "Германия    42966\n",
       "EUROPEAN    20682\n",
       "JAPANESE    14004\n",
       "Чехия        6778\n",
       "Швеция       1494\n",
       "Name: vendor, dtype: int64"
      ]
     },
     "execution_count": 661,
     "metadata": {},
     "output_type": "execute_result"
    }
   ],
   "source": [
    "combined['vendor'].value_counts()"
   ]
  },
  {
   "cell_type": "code",
   "execution_count": 662,
   "metadata": {},
   "outputs": [],
   "source": [
    "combined['vendor'] = combined['vendor'].apply(lambda x: 'JAPANESE' if x == 'Япония' else x)\n",
    "combined['vendor'] = combined['vendor'].apply(lambda x: 'EUROPEAN' if x == 'Германия' else x)\n",
    "combined['vendor'] = combined['vendor'].apply(lambda x: 'EUROPEAN' if x == 'Чехия' else x)\n",
    "combined['vendor'] = combined['vendor'].apply(lambda x: 'EUROPEAN' if x == 'Швеция' else x)"
   ]
  },
  {
   "cell_type": "code",
   "execution_count": 663,
   "metadata": {},
   "outputs": [
    {
     "data": {
      "text/plain": [
       "Не требует ремонта    138940\n",
       "Name: Состояние, dtype: int64"
      ]
     },
     "execution_count": 663,
     "metadata": {},
     "output_type": "execute_result"
    }
   ],
   "source": [
    "combined['Состояние'].value_counts()"
   ]
  },
  {
   "cell_type": "markdown",
   "metadata": {},
   "source": [
    "#### Нет смысла в этой переменной"
   ]
  },
  {
   "cell_type": "code",
   "execution_count": 664,
   "metadata": {},
   "outputs": [],
   "source": [
    "combined = combined.drop('Состояние', axis = 1)"
   ]
  },
  {
   "cell_type": "code",
   "execution_count": 665,
   "metadata": {},
   "outputs": [],
   "source": [
    "# combined = combined.drop('displacement', axis = 1)\n",
    "# combined = combined.drop('power_kvt', axis = 1)"
   ]
  },
  {
   "cell_type": "code",
   "execution_count": 666,
   "metadata": {},
   "outputs": [],
   "source": [
    "combined['Руль'] = pd.Series(LabelEncoder().fit_transform(combined['Руль']))"
   ]
  },
  {
   "cell_type": "code",
   "execution_count": 667,
   "metadata": {},
   "outputs": [
    {
     "data": {
      "text/plain": [
       "Растаможен    138940\n",
       "Name: Таможня, dtype: int64"
      ]
     },
     "execution_count": 667,
     "metadata": {},
     "output_type": "execute_result"
    }
   ],
   "source": [
    "combined['Таможня'].value_counts()"
   ]
  },
  {
   "cell_type": "code",
   "execution_count": 668,
   "metadata": {},
   "outputs": [],
   "source": [
    "combined = combined.drop('Таможня', axis = 1)"
   ]
  },
  {
   "cell_type": "code",
   "execution_count": 669,
   "metadata": {},
   "outputs": [],
   "source": [
    "import re"
   ]
  },
  {
   "cell_type": "code",
   "execution_count": 670,
   "metadata": {},
   "outputs": [],
   "source": [
    "combined['bodyType'] = combined['bodyType'].apply(lambda x: (re.match(r'\\w+', x)).group())"
   ]
  },
  {
   "cell_type": "code",
   "execution_count": 671,
   "metadata": {},
   "outputs": [],
   "source": [
    "combined['bodyType'] = pd.Series(LabelEncoder().fit_transform(combined['bodyType']))"
   ]
  },
  {
   "cell_type": "code",
   "execution_count": 672,
   "metadata": {},
   "outputs": [],
   "source": [
    "combined['color'] = pd.Series(LabelEncoder().fit_transform(combined['color']))"
   ]
  },
  {
   "cell_type": "code",
   "execution_count": 673,
   "metadata": {},
   "outputs": [],
   "source": [
    "combined['brand'] = pd.Series(LabelEncoder().fit_transform(combined['brand']))"
   ]
  },
  {
   "cell_type": "code",
   "execution_count": 674,
   "metadata": {},
   "outputs": [],
   "source": [
    "combined['fuelType'] = pd.Series(LabelEncoder().fit_transform(combined['fuelType']))"
   ]
  },
  {
   "cell_type": "code",
   "execution_count": 675,
   "metadata": {},
   "outputs": [],
   "source": [
    "combined['model_name'] = pd.Series(LabelEncoder().fit_transform(combined['model_name']))"
   ]
  },
  {
   "cell_type": "code",
   "execution_count": 676,
   "metadata": {},
   "outputs": [],
   "source": [
    "combined['vehicleTransmission'] = pd.Series(LabelEncoder().fit_transform(combined['vehicleTransmission']))"
   ]
  },
  {
   "cell_type": "code",
   "execution_count": 677,
   "metadata": {},
   "outputs": [],
   "source": [
    "combined['vendor'] = pd.Series(LabelEncoder().fit_transform(combined['vendor']))"
   ]
  },
  {
   "cell_type": "code",
   "execution_count": 678,
   "metadata": {},
   "outputs": [
    {
     "data": {
      "text/plain": [
       "count     138940.000000\n",
       "mean      172477.231172\n",
       "std       106812.663321\n",
       "min            1.000000\n",
       "25%        96000.000000\n",
       "50%       159000.000000\n",
       "75%       231773.250000\n",
       "max      1000000.000000\n",
       "Name: mileage, dtype: float64"
      ]
     },
     "execution_count": 678,
     "metadata": {},
     "output_type": "execute_result"
    }
   ],
   "source": [
    "combined['mileage'].describe()"
   ]
  },
  {
   "cell_type": "code",
   "execution_count": 679,
   "metadata": {},
   "outputs": [],
   "source": [
    "def fun(year):\n",
    "    if year > 2010:\n",
    "        a ='1 владелец'\n",
    "        return '1\\xa0владелец'     #  '1 владелец'#  1\\xa0владелец\n",
    "    elif year > 2000:\n",
    "        return '2\\xa0владельца'    #'2 владелеца' # 2\\xa0владельца\n",
    "    elif year <2000:\n",
    "        return '3 или более'"
   ]
  },
  {
   "cell_type": "code",
   "execution_count": 680,
   "metadata": {},
   "outputs": [
    {
     "name": "stderr",
     "output_type": "stream",
     "text": [
      "<ipython-input-680-868564c1c71a>:1: SettingWithCopyWarning: \n",
      "A value is trying to be set on a copy of a slice from a DataFrame\n",
      "\n",
      "See the caveats in the documentation: https://pandas.pydata.org/pandas-docs/stable/user_guide/indexing.html#returning-a-view-versus-a-copy\n",
      "  combined['Владельцы'][combined['Владельцы'].isna()==True] = combined.productionDate[combined['Владельцы'].isna()==True].apply(fun)\n"
     ]
    }
   ],
   "source": [
    "combined['Владельцы'][combined['Владельцы'].isna()==True] = combined.productionDate[combined['Владельцы'].isna()==True].apply(fun)"
   ]
  },
  {
   "cell_type": "code",
   "execution_count": 681,
   "metadata": {},
   "outputs": [
    {
     "data": {
      "text/plain": [
       "3 или более    71773\n",
       "1 владелец     33980\n",
       "2 владельца    33187\n",
       "Name: Владельцы, dtype: int64"
      ]
     },
     "execution_count": 681,
     "metadata": {},
     "output_type": "execute_result"
    }
   ],
   "source": [
    "combined['Владельцы'].value_counts()"
   ]
  },
  {
   "cell_type": "code",
   "execution_count": 682,
   "metadata": {},
   "outputs": [],
   "source": [
    "combined['Владельцы'] = pd.Series(LabelEncoder().fit_transform(combined['Владельцы']))"
   ]
  },
  {
   "cell_type": "code",
   "execution_count": 683,
   "metadata": {},
   "outputs": [],
   "source": [
    "combined = combined.drop('Владение', axis = 1)"
   ]
  },
  {
   "cell_type": "code",
   "execution_count": 684,
   "metadata": {},
   "outputs": [],
   "source": [
    "# combined = combined.drop('modelDate', axis = 1)"
   ]
  },
  {
   "cell_type": "markdown",
   "metadata": {},
   "source": [
    "### Новые признаки/переменные"
   ]
  },
  {
   "cell_type": "markdown",
   "metadata": {},
   "source": [
    "Разница между годом выпуска и годом моделя"
   ]
  },
  {
   "cell_type": "code",
   "execution_count": 685,
   "metadata": {},
   "outputs": [],
   "source": [
    "combined['diffAge'] = combined['productionDate'] - combined['modelDate']"
   ]
  },
  {
   "cell_type": "markdown",
   "metadata": {},
   "source": [
    "На сколько модель старая"
   ]
  },
  {
   "cell_type": "code",
   "execution_count": 686,
   "metadata": {},
   "outputs": [],
   "source": [
    "combined['oldAge'] = 2021 - combined['modelDate']"
   ]
  },
  {
   "cell_type": "markdown",
   "metadata": {},
   "source": [
    "Сколько прошло лет с года выпуска"
   ]
  },
  {
   "cell_type": "code",
   "execution_count": 687,
   "metadata": {},
   "outputs": [],
   "source": [
    "combined['fromProdAge'] = 2021 - combined['productionDate']"
   ]
  },
  {
   "cell_type": "markdown",
   "metadata": {},
   "source": [
    "Функция для расчета налога. К сожалению она не точная. Не хватает двух переменных для точного расчета. Но на сайте https://zakon-auto.ru/info/tnalog/moscow.php написано что это стандартная формула"
   ]
  },
  {
   "cell_type": "code",
   "execution_count": 688,
   "metadata": {},
   "outputs": [],
   "source": [
    "def fun_tax(power, year):\n",
    "    if power <=100:\n",
    "        stavka =12\n",
    "    elif power <=125 and power >100 :\n",
    "        stavka =25\n",
    "    elif power <=150 and power >125 :\n",
    "        stavka =35\n",
    "    elif power <=175 and power >150 :\n",
    "        stavka =45\n",
    "    elif power <=200 and power >175 :\n",
    "        stavka =50\n",
    "    elif power <=225 and power >200 :\n",
    "        stavka =65\n",
    "    elif power <=250 and power >225 :\n",
    "        stavka =75\n",
    "    elif power >250 :\n",
    "        stavka =150\n",
    "    year = 2021 - year\n",
    "    return stavka * power"
   ]
  },
  {
   "cell_type": "code",
   "execution_count": 689,
   "metadata": {},
   "outputs": [],
   "source": [
    "combined['Tax'] = combined[['enginePower','productionDate']].apply(lambda x: fun_tax(x['enginePower'], x['productionDate']), axis=1)"
   ]
  },
  {
   "cell_type": "code",
   "execution_count": 690,
   "metadata": {},
   "outputs": [
    {
     "name": "stdout",
     "output_type": "stream",
     "text": [
      "<class 'pandas.core.frame.DataFrame'>\n",
      "RangeIndex: 138940 entries, 0 to 138939\n",
      "Data columns (total 28 columns):\n",
      " #   Column               Non-Null Count   Dtype  \n",
      "---  ------               --------------   -----  \n",
      " 0   bodyType             138940 non-null  int32  \n",
      " 1   brand                138940 non-null  int32  \n",
      " 2   color                138940 non-null  int32  \n",
      " 3   engineDisplacement   138940 non-null  float64\n",
      " 4   enginePower          138940 non-null  float64\n",
      " 5   fuelType             138940 non-null  int32  \n",
      " 6   mileage              138940 non-null  int64  \n",
      " 7   modelDate            138940 non-null  int64  \n",
      " 8   model_name           138940 non-null  int32  \n",
      " 9   numberOfDoors        138940 non-null  int64  \n",
      " 10  productionDate       138940 non-null  int64  \n",
      " 11  vehicleTransmission  138940 non-null  int32  \n",
      " 12  vendor               138940 non-null  int32  \n",
      " 13  Владельцы            138940 non-null  int32  \n",
      " 14  ПТС                  138940 non-null  int32  \n",
      " 15  Привод               138940 non-null  int32  \n",
      " 16  Руль                 138940 non-null  int32  \n",
      " 17  Цена                 104254 non-null  float64\n",
      " 18  acceleration         138940 non-null  float64\n",
      " 19  clearance_min        138940 non-null  float64\n",
      " 20  power_kvt            138940 non-null  int64  \n",
      " 21  displacement         138940 non-null  float64\n",
      " 22  fuel_rate            138940 non-null  object \n",
      " 23  label                138940 non-null  int64  \n",
      " 24  diffAge              138940 non-null  int64  \n",
      " 25  oldAge               138940 non-null  int64  \n",
      " 26  fromProdAge          138940 non-null  int64  \n",
      " 27  Tax                  138940 non-null  float64\n",
      "dtypes: float64(7), int32(11), int64(9), object(1)\n",
      "memory usage: 23.9+ MB\n"
     ]
    }
   ],
   "source": [
    "combined.info()"
   ]
  },
  {
   "cell_type": "code",
   "execution_count": 691,
   "metadata": {},
   "outputs": [
    {
     "data": {
      "image/png": "[encoded data removed]",
      "text/plain": [
       "<Figure size 504x288 with 1 Axes>"
      ]
     },
     "metadata": {
      "needs_background": "light"
     },
     "output_type": "display_data"
    }
   ],
   "source": [
    "from matplotlib import pyplot as plt \n",
    "\n",
    "fig, ax = plt.subplots(figsize =(7, 4)) \n",
    "ax.hist(df['Цена'], bins = 100) \n",
    "  \n",
    "# Show plot \n",
    "plt.show() "
   ]
  },
  {
   "cell_type": "code",
   "execution_count": 692,
   "metadata": {},
   "outputs": [
    {
     "data": {
      "image/png": "[encoded data removed]",
      "text/plain": [
       "<Figure size 504x288 with 1 Axes>"
      ]
     },
     "metadata": {
      "needs_background": "light"
     },
     "output_type": "display_data"
    }
   ],
   "source": [
    "from matplotlib import pyplot as plt \n",
    "\n",
    "fig, ax = plt.subplots(figsize =(7, 4)) \n",
    "ax.hist(np.log(df['Цена']), bins = 100) \n",
    "  \n",
    "# Show plot \n",
    "plt.show() "
   ]
  },
  {
   "cell_type": "markdown",
   "metadata": {},
   "source": [
    "#### Предсказание с логарифмическими ценами показали низкий МАРЕ"
   ]
  },
  {
   "cell_type": "code",
   "execution_count": 693,
   "metadata": {},
   "outputs": [],
   "source": [
    "Y_train = np.log(df['Цена'])"
   ]
  },
  {
   "cell_type": "markdown",
   "metadata": {},
   "source": [
    "#### Делим на train и test"
   ]
  },
  {
   "cell_type": "code",
   "execution_count": 694,
   "metadata": {},
   "outputs": [],
   "source": [
    "X_test = combined[combined['label'] == 1].drop('label', axis = 1)\n",
    "X_train = combined[combined['label'] == 0].drop('label', axis = 1)"
   ]
  },
  {
   "cell_type": "code",
   "execution_count": 697,
   "metadata": {},
   "outputs": [],
   "source": [
    "X_train = X_train.drop('Цена', axis=1)\n",
    "X_test = X_test.drop('Цена', axis=1)"
   ]
  },
  {
   "cell_type": "markdown",
   "metadata": {},
   "source": [
    "###  Обучение. Модели."
   ]
  },
  {
   "cell_type": "code",
   "execution_count": null,
   "metadata": {},
   "outputs": [],
   "source": [
    "from sklearn.ensemble import StackingRegressor\n",
    "from sklearn.ensemble import GradientBoostingRegressor\n",
    "from sklearn.ensemble import BaggingRegressor\n",
    "from sklearn.linear_model import LinearRegression\n",
    "import xgboost as xgb\n",
    "from catboost import CatBoostRegressor"
   ]
  },
  {
   "cell_type": "markdown",
   "metadata": {},
   "source": [
    "### Random Forest Reggresor"
   ]
  },
  {
   "cell_type": "markdown",
   "metadata": {},
   "source": [
    "#### Часто показывал довольно хороший результат. Но уступил XGBoost"
   ]
  },
  {
   "cell_type": "code",
   "execution_count": 703,
   "metadata": {},
   "outputs": [],
   "source": [
    "model = RandomForestRegressor(n_estimators=1000, max_depth=15, random_state=42)"
   ]
  },
  {
   "cell_type": "code",
   "execution_count": 704,
   "metadata": {
    "scrolled": true
   },
   "outputs": [
    {
     "data": {
      "text/plain": [
       "RandomForestRegressor(max_depth=15, n_estimators=1000, random_state=42)"
      ]
     },
     "execution_count": 704,
     "metadata": {},
     "output_type": "execute_result"
    }
   ],
   "source": [
    "model.fit(X_train, Y_train)"
   ]
  },
  {
   "cell_type": "code",
   "execution_count": 705,
   "metadata": {},
   "outputs": [],
   "source": [
    "pred = model.predict(X_test)"
   ]
  },
  {
   "cell_type": "code",
   "execution_count": 707,
   "metadata": {},
   "outputs": [],
   "source": [
    "pred = np.exp(pred)"
   ]
  },
  {
   "cell_type": "code",
   "execution_count": 284,
   "metadata": {},
   "outputs": [
    {
     "data": {
      "text/plain": [
       "array([ 727550.10495192, 1050006.5789351 ,  870271.47132974, ...,\n",
       "        249354.7109464 , 1169557.44699161, 1157549.68209116])"
      ]
     },
     "execution_count": 284,
     "metadata": {},
     "output_type": "execute_result"
    }
   ],
   "source": [
    "pred"
   ]
  },
  {
   "cell_type": "code",
   "execution_count": 708,
   "metadata": {},
   "outputs": [
    {
     "data": {
      "text/plain": [
       "array([ 707607.73052455, 1050298.83425229,  877975.48744975, ...,\n",
       "        250031.69825353, 1167976.99191724, 1144223.36843878])"
      ]
     },
     "execution_count": 708,
     "metadata": {},
     "output_type": "execute_result"
    }
   ],
   "source": [
    "pred"
   ]
  },
  {
   "cell_type": "code",
   "execution_count": 710,
   "metadata": {},
   "outputs": [],
   "source": [
    "sample_submission = pd.read_csv('sample_submission.csv')\n",
    "sample_submission['price'] = pred\n",
    "sample_submission.to_csv(f'submission_31.csv', index=False)"
   ]
  },
  {
   "cell_type": "markdown",
   "metadata": {},
   "source": [
    "### Стакинг"
   ]
  },
  {
   "cell_type": "markdown",
   "metadata": {},
   "source": [
    "#### Сколько не пытались стакинг показывал результат хуже чем отдельных алгоритов. В добавок требовало много времени обучения."
   ]
  },
  {
   "cell_type": "code",
   "execution_count": 311,
   "metadata": {},
   "outputs": [],
   "source": [
    "estimators=[('b_gbr', BaggingRegressor(GradientBoostingRegressor(random_state=42\n",
    "                                                                ,n_estimators=800\n",
    "                                                                ,min_samples_split=5\n",
    "                                                                ,min_samples_leaf=4\n",
    "                                                                ,max_features='sqrt'\n",
    "                                                                ,max_depth=9)\n",
    "                                                                ,n_estimators=3\n",
    "                                                                ,n_jobs=1\n",
    "                                                                ,random_state=42))\n",
    "            ,('xgb', xgb.XGBRegressor(objective='reg:squarederror'\n",
    "                                      ,colsample_bytree=0.5\n",
    "                                      ,learning_rate=0.05\n",
    "                                      ,max_depth=12\n",
    "                                      ,alpha=1\n",
    "                                      ,n_estimators=1000)),\n",
    "           ('cat', CatBoostRegressor(iterations = 500\n",
    "                             ,random_seed = 42\n",
    "                             ,eval_metric='MAPE'\n",
    "                             ,custom_metric=['R2', 'MAE']\n",
    "                             ,silent=True\n",
    "                             ,learning_rate=0.13\n",
    "                             ,depth=12\n",
    "                             ,l2_leaf_reg=8\n",
    "                             ,random_strength=0.3))] "
   ]
  },
  {
   "cell_type": "code",
   "execution_count": 313,
   "metadata": {},
   "outputs": [],
   "source": [
    "st_ensemble = StackingRegressor(estimators=estimators\n",
    "                                ,final_estimator = LinearRegression(n_jobs=-1))"
   ]
  },
  {
   "cell_type": "code",
   "execution_count": 314,
   "metadata": {},
   "outputs": [
    {
     "data": {
      "text/plain": [
       "StackingRegressor(estimators=[('b_gbr',\n",
       "                               BaggingRegressor(base_estimator=GradientBoostingRegressor(max_depth=9,\n",
       "                                                                                         max_features='sqrt',\n",
       "                                                                                         min_samples_leaf=4,\n",
       "                                                                                         min_samples_split=5,\n",
       "                                                                                         n_estimators=800,\n",
       "                                                                                         random_state=42),\n",
       "                                                n_estimators=3, n_jobs=1,\n",
       "                                                random_state=42)),\n",
       "                              ('xgb',\n",
       "                               XGBRegressor(alpha=1, base_score=None,\n",
       "                                            booster=None,\n",
       "                                            colsample_bylevel=None,\n",
       "                                            colsample_bynode=None,\n",
       "                                            cols...\n",
       "                                            n_estimators=1000, n_jobs=None,\n",
       "                                            num_parallel_tree=None,\n",
       "                                            random_state=None, reg_alpha=None,\n",
       "                                            reg_lambda=None,\n",
       "                                            scale_pos_weight=None,\n",
       "                                            subsample=None, tree_method=None,\n",
       "                                            validate_parameters=None,\n",
       "                                            verbosity=None)),\n",
       "                              ('cat',\n",
       "                               <catboost.core.CatBoostRegressor object at 0x000002A45C7BA220>)],\n",
       "                  final_estimator=RandomForestRegressor(max_depth=15,\n",
       "                                                        n_estimators=1000,\n",
       "                                                        random_state=42))"
      ]
     },
     "execution_count": 314,
     "metadata": {},
     "output_type": "execute_result"
    }
   ],
   "source": [
    "st_ensemble.fit(X_train, Y_train)"
   ]
  },
  {
   "cell_type": "code",
   "execution_count": 315,
   "metadata": {},
   "outputs": [],
   "source": [
    "pred = np.exp(st_ensemble.predict(X_test))"
   ]
  },
  {
   "cell_type": "code",
   "execution_count": 316,
   "metadata": {},
   "outputs": [
    {
     "data": {
      "text/plain": [
       "array([ 668870.92220953, 1049863.86309845,  870466.63273068, ...,\n",
       "        243107.32836649, 1116192.54705518, 1132846.97518519])"
      ]
     },
     "execution_count": 316,
     "metadata": {},
     "output_type": "execute_result"
    }
   ],
   "source": [
    "pred"
   ]
  },
  {
   "cell_type": "code",
   "execution_count": 862,
   "metadata": {},
   "outputs": [
    {
     "data": {
      "text/plain": [
       "array([ 628078.48670855,  989032.37491784,  862507.2541245 , ...,\n",
       "        236773.38636264, 1292443.58046609, 1157041.67885418])"
      ]
     },
     "execution_count": 862,
     "metadata": {},
     "output_type": "execute_result"
    }
   ],
   "source": [
    "pred"
   ]
  },
  {
   "cell_type": "code",
   "execution_count": 317,
   "metadata": {},
   "outputs": [],
   "source": [
    "sample_submission = pd.read_csv('sample_submission.csv')\n",
    "sample_submission['price'] = pred\n",
    "sample_submission['price'] = sample_submission['price'].fillna(sample_submission['price'].mean())\n",
    "sample_submission.to_csv(f'submission_25.csv', index=False)"
   ]
  },
  {
   "cell_type": "markdown",
   "metadata": {},
   "source": [
    "### Бэггинг"
   ]
  },
  {
   "cell_type": "markdown",
   "metadata": {},
   "source": [
    "#### Тоже не помогло"
   ]
  },
  {
   "cell_type": "code",
   "execution_count": 864,
   "metadata": {},
   "outputs": [],
   "source": [
    "bagg_xgb = BaggingRegressor(xgb.XGBRegressor(objective='reg:squarederror', colsample_bytree=0.5,\n",
    "                          learning_rate=0.05, max_depth=17, alpha=1,\n",
    "                          n_estimators=1000), n_estimators=3, n_jobs=1, random_state=42)"
   ]
  },
  {
   "cell_type": "code",
   "execution_count": 865,
   "metadata": {},
   "outputs": [
    {
     "data": {
      "text/plain": [
       "BaggingRegressor(base_estimator=XGBRegressor(alpha=1, base_score=None,\n",
       "                                             booster=None,\n",
       "                                             colsample_bylevel=None,\n",
       "                                             colsample_bynode=None,\n",
       "                                             colsample_bytree=0.5, gamma=None,\n",
       "                                             gpu_id=None,\n",
       "                                             importance_type='gain',\n",
       "                                             interaction_constraints=None,\n",
       "                                             learning_rate=0.05,\n",
       "                                             max_delta_step=None, max_depth=17,\n",
       "                                             min_child_weight=None, missing=nan,\n",
       "                                             monotone_constraints=None,\n",
       "                                             n_estimators=1000, n_jobs=None,\n",
       "                                             num_parallel_tree=None,\n",
       "                                             random_state=None, reg_alpha=None,\n",
       "                                             reg_lambda=None,\n",
       "                                             scale_pos_weight=None,\n",
       "                                             subsample=None, tree_method=None,\n",
       "                                             validate_parameters=None,\n",
       "                                             verbosity=None),\n",
       "                 n_estimators=3, n_jobs=1, random_state=42)"
      ]
     },
     "execution_count": 865,
     "metadata": {},
     "output_type": "execute_result"
    }
   ],
   "source": [
    "bagg_xgb.fit(X_train, Y_train)"
   ]
  },
  {
   "cell_type": "code",
   "execution_count": 866,
   "metadata": {},
   "outputs": [],
   "source": [
    "predict_bagg_xgb = np.exp(bagg_xgb.predict(X_test))"
   ]
  },
  {
   "cell_type": "code",
   "execution_count": 867,
   "metadata": {},
   "outputs": [],
   "source": [
    "predict_submission = np.round(predict_bagg_xgb ,-3)"
   ]
  },
  {
   "cell_type": "code",
   "execution_count": 868,
   "metadata": {},
   "outputs": [
    {
     "data": {
      "text/plain": [
       "array([ 692637.6 , 1054393.1 ,  889529.7 , ...,  215096.89, 1201077.6 ,\n",
       "       1191785.2 ], dtype=float32)"
      ]
     },
     "execution_count": 868,
     "metadata": {},
     "output_type": "execute_result"
    }
   ],
   "source": [
    "predict_bagg_xgb "
   ]
  },
  {
   "cell_type": "code",
   "execution_count": 869,
   "metadata": {},
   "outputs": [
    {
     "data": {
      "text/plain": [
       "array([ 693000., 1054000.,  890000., ...,  215000., 1201000., 1192000.],\n",
       "      dtype=float32)"
      ]
     },
     "execution_count": 869,
     "metadata": {},
     "output_type": "execute_result"
    }
   ],
   "source": [
    "predict_submission"
   ]
  },
  {
   "cell_type": "code",
   "execution_count": 875,
   "metadata": {},
   "outputs": [],
   "source": [
    "sample_submission = pd.read_csv('sample_submission.csv')\n",
    "sample_submission['price'] = predict_bagg_xgb \n",
    "# sample_submission['price'] = sample_submission['price'].fillna(sample_submission['price'].mean())\n",
    "sample_submission.to_csv(f'submission_21.csv', index=False)"
   ]
  },
  {
   "cell_type": "markdown",
   "metadata": {},
   "source": [
    "### Градиентный бустинг"
   ]
  },
  {
   "cell_type": "markdown",
   "metadata": {},
   "source": [
    "#### По результатам был на уровне Random Forest"
   ]
  },
  {
   "cell_type": "code",
   "execution_count": 296,
   "metadata": {},
   "outputs": [
    {
     "data": {
      "text/plain": [
       "GradientBoostingRegressor(learning_rate=0.03, max_depth=15, n_estimators=1000)"
      ]
     },
     "execution_count": 296,
     "metadata": {},
     "output_type": "execute_result"
    }
   ],
   "source": [
    "gb = GradientBoostingRegressor(min_samples_split=2, learning_rate=0.03, max_depth=15, n_estimators=1000)\n",
    "gb.fit(X_train, Y_train)"
   ]
  },
  {
   "cell_type": "code",
   "execution_count": 297,
   "metadata": {},
   "outputs": [],
   "source": [
    "pred = np.exp(gb.predict(X_test))"
   ]
  },
  {
   "cell_type": "code",
   "execution_count": 298,
   "metadata": {},
   "outputs": [],
   "source": [
    "predict_submission = np.round(pred ,-3)"
   ]
  },
  {
   "cell_type": "code",
   "execution_count": 61,
   "metadata": {},
   "outputs": [
    {
     "data": {
      "text/plain": [
       "array([ 456000.,  863000.,  706000., ..., 1155000., 1293000., 2106000.])"
      ]
     },
     "execution_count": 61,
     "metadata": {},
     "output_type": "execute_result"
    }
   ],
   "source": [
    "predict_submission"
   ]
  },
  {
   "cell_type": "code",
   "execution_count": 299,
   "metadata": {},
   "outputs": [
    {
     "data": {
      "text/plain": [
       "array([ 762000.,  975000.,  827000., ...,  193000., 1224000., 1177000.])"
      ]
     },
     "execution_count": 299,
     "metadata": {},
     "output_type": "execute_result"
    }
   ],
   "source": [
    "predict_submission"
   ]
  },
  {
   "cell_type": "code",
   "execution_count": 55,
   "metadata": {},
   "outputs": [
    {
     "data": {
      "text/plain": [
       "array([ 573000.,  721000.,  734000., ...,  994000., 1331000., 1376000.])"
      ]
     },
     "execution_count": 55,
     "metadata": {},
     "output_type": "execute_result"
    }
   ],
   "source": [
    "predict_submission "
   ]
  },
  {
   "cell_type": "code",
   "execution_count": 56,
   "metadata": {},
   "outputs": [],
   "source": [
    "sample_submission = pd.read_csv('sample_submission.csv')\n",
    "sample_submission['price'] = predict_submission\n",
    "# sample_submission['price'] = sample_submission['price'].fillna(sample_submission['price'].mean())\n",
    "sample_submission.to_csv(f'submission_23.csv', index=False)"
   ]
  },
  {
   "cell_type": "markdown",
   "metadata": {},
   "source": [
    "### XGBoost"
   ]
  },
  {
   "cell_type": "markdown",
   "metadata": {},
   "source": [
    "#### Наш фаворит. Показал наилучший результат в kaggle - 10.83704. К удивлению заняло не так много времени обучения."
   ]
  },
  {
   "cell_type": "code",
   "execution_count": 243,
   "metadata": {},
   "outputs": [
    {
     "data": {
      "text/plain": [
       "XGBRegressor(alpha=1, base_score=0.5, booster='gbtree', colsample_bylevel=1,\n",
       "             colsample_bynode=1, colsample_bytree=0.5, gamma=0, gpu_id=-1,\n",
       "             importance_type='gain', interaction_constraints='',\n",
       "             learning_rate=0.005, max_delta_step=0, max_depth=15,\n",
       "             min_child_weight=1, missing=nan, monotone_constraints='()',\n",
       "             n_estimators=1000, n_jobs=8, num_parallel_tree=1, random_state=0,\n",
       "             reg_alpha=1, reg_lambda=1, scale_pos_weight=1, subsample=1,\n",
       "             tree_method='exact', validate_parameters=1, verbosity=None)"
      ]
     },
     "execution_count": 243,
     "metadata": {},
     "output_type": "execute_result"
    }
   ],
   "source": [
    "xg_reg = xgb.XGBRegressor(objective='reg:squarederror', colsample_bytree=0.5,\n",
    "                          learning_rate=0.005, max_depth=15, alpha=1,\n",
    "                          n_estimators=1000)\n",
    "xg_reg.fit(X_train, Y_train)"
   ]
  },
  {
   "cell_type": "code",
   "execution_count": 244,
   "metadata": {},
   "outputs": [],
   "source": [
    "xg_red_pred = xg_reg.predict(X_test)"
   ]
  },
  {
   "cell_type": "code",
   "execution_count": 245,
   "metadata": {
    "scrolled": true
   },
   "outputs": [
    {
     "data": {
      "text/plain": [
       "array([ 612603.9 ,  883710.7 ,  863112.75, ...,  242010.9 , 1184876.9 ,\n",
       "       1038862.3 ], dtype=float32)"
      ]
     },
     "execution_count": 245,
     "metadata": {},
     "output_type": "execute_result"
    }
   ],
   "source": [
    "np.exp(xg_red_pred)"
   ]
  },
  {
   "cell_type": "code",
   "execution_count": 306,
   "metadata": {},
   "outputs": [
    {
     "data": {
      "text/plain": [
       "array([ 762000.,  975000.,  827000., ...,  193000., 1224000., 1177000.])"
      ]
     },
     "execution_count": 306,
     "metadata": {},
     "output_type": "execute_result"
    }
   ],
   "source": [
    "predict_submission"
   ]
  },
  {
   "cell_type": "code",
   "execution_count": 309,
   "metadata": {},
   "outputs": [
    {
     "data": {
      "text/plain": [
       "array([ 693228.4, 1041141.5,  879525.3, ...,  230193.8, 1196114.4,\n",
       "       1177713. ], dtype=float32)"
      ]
     },
     "execution_count": 309,
     "metadata": {},
     "output_type": "execute_result"
    }
   ],
   "source": [
    "np.exp(xg_red_pred)"
   ]
  },
  {
   "cell_type": "code",
   "execution_count": 246,
   "metadata": {},
   "outputs": [],
   "source": [
    "sample_submission = pd.read_csv('sample_submission.csv')\n",
    "sample_submission['price'] = np.exp(xg_red_pred)\n",
    "# sample_submission['price'] = sample_submission['price'].fillna(sample_submission['price'].mean())\n",
    "sample_submission.to_csv(f'submission_29.csv', index=False)"
   ]
  },
  {
   "cell_type": "code",
   "execution_count": 439,
   "metadata": {},
   "outputs": [
    {
     "data": {
      "text/plain": [
       "XGBRegressor(alpha=1, base_score=0.5, booster='gbtree', colsample_bylevel=1,\n",
       "             colsample_bynode=1, colsample_bytree=0.5, gamma=0, gpu_id=-1,\n",
       "             importance_type='gain', interaction_constraints='',\n",
       "             learning_rate=0.005, max_delta_step=0, max_depth=15,\n",
       "             min_child_weight=1, missing=nan, monotone_constraints='()',\n",
       "             n_estimators=5000, n_jobs=8, num_parallel_tree=1, random_state=0,\n",
       "             reg_alpha=1, reg_lambda=1, scale_pos_weight=1, subsample=1,\n",
       "             tree_method='exact', validate_parameters=1, verbosity=None)"
      ]
     },
     "execution_count": 439,
     "metadata": {},
     "output_type": "execute_result"
    }
   ],
   "source": [
    "xg_reg = xgb.XGBRegressor(objective='reg:squarederror', colsample_bytree=0.5,\n",
    "                          learning_rate= 0.005 ,max_depth=15, alpha=1,\n",
    "                          n_estimators=5000)\n",
    "xg_reg.fit(X_train, Y_train)"
   ]
  },
  {
   "cell_type": "code",
   "execution_count": 442,
   "metadata": {},
   "outputs": [
    {
     "name": "stdout",
     "output_type": "stream",
     "text": [
      "Variable: oldAge               Importance: 0.18000000715255737\n",
      "Variable: modelDate            Importance: 0.17000000178813934\n",
      "Variable: productionDate       Importance: 0.14000000059604645\n",
      "Variable: fromProdAge          Importance: 0.14000000059604645\n",
      "Variable: power_kvt            Importance: 0.07999999821186066\n",
      "Variable: Привод               Importance: 0.05999999865889549\n",
      "Variable: engineDisplacement   Importance: 0.03999999910593033\n",
      "Variable: enginePower          Importance: 0.03999999910593033\n",
      "Variable: displacement         Importance: 0.03999999910593033\n",
      "Variable: bodyType             Importance: 0.029999999329447746\n",
      "Variable: brand                Importance: 0.019999999552965164\n",
      "Variable: fuelType             Importance: 0.009999999776482582\n",
      "Variable: mileage              Importance: 0.009999999776482582\n",
      "Variable: numberOfDoors        Importance: 0.009999999776482582\n",
      "Variable: vehicleTransmission  Importance: 0.009999999776482582\n",
      "Variable: vendor               Importance: 0.009999999776482582\n",
      "Variable: clearance_min        Importance: 0.009999999776482582\n",
      "Variable: color                Importance: 0.0\n",
      "Variable: model_name           Importance: 0.0\n",
      "Variable: ПТС                  Importance: 0.0\n",
      "Variable: Руль                 Importance: 0.0\n",
      "Variable: acceleration         Importance: 0.0\n",
      "Variable: fuel_rate            Importance: 0.0\n",
      "Variable: diffAge              Importance: 0.0\n"
     ]
    }
   ],
   "source": [
    "importances = list(xg_reg.feature_importances_)\n",
    "feature_list = ['bodyType', 'brand', 'color', 'engineDisplacement', 'enginePower',\n",
    "       'fuelType', 'mileage', 'modelDate', 'model_name', 'numberOfDoors',\n",
    "       'productionDate', 'vehicleTransmission', 'vendor', 'ПТС', 'Привод',\n",
    "       'Руль', 'acceleration', 'clearance_min', 'power_kvt', 'displacement',\n",
    "       'fuel_rate', 'diffAge', 'oldAge', 'fromProdAge']\n",
    "feature_importances = [(feature, round(importance, 2)) for feature, importance in zip(feature_list, importances)]\n",
    "# Sort the feature importances by most important first\n",
    "feature_importances = sorted(feature_importances, key = lambda x: x[1], reverse = True)\n",
    "# Print out the feature and importances \n",
    "# [('Variable: {:20} Importance: {}'.format(i[0], i[1])) for i in feature_importances]\n",
    "for i in feature_importances:\n",
    "    print('Variable: {:20} Importance: {}'.format(i[0], i[1]))"
   ]
  },
  {
   "cell_type": "code",
   "execution_count": 172,
   "metadata": {},
   "outputs": [],
   "source": [
    "predict_test = np.exp(xg_reg.predict(X_test)) "
   ]
  },
  {
   "cell_type": "code",
   "execution_count": 142,
   "metadata": {},
   "outputs": [
    {
     "data": {
      "text/plain": [
       "array([ 695271.6 , 1021706.3 ,  884817.94, ...,  220242.08, 1189450.8 ,\n",
       "       1175652.6 ], dtype=float32)"
      ]
     },
     "execution_count": 142,
     "metadata": {},
     "output_type": "execute_result"
    }
   ],
   "source": [
    "predict_test"
   ]
  },
  {
   "cell_type": "code",
   "execution_count": 173,
   "metadata": {},
   "outputs": [
    {
     "data": {
      "text/plain": [
       "array([ 638878. ,  971148.7,  940239.6, ...,  271114.6, 1123685.1,\n",
       "       1082229.8], dtype=float32)"
      ]
     },
     "execution_count": 173,
     "metadata": {},
     "output_type": "execute_result"
    }
   ],
   "source": [
    "predict_test"
   ]
  },
  {
   "cell_type": "code",
   "execution_count": 486,
   "metadata": {},
   "outputs": [
    {
     "data": {
      "text/plain": [
       "array([ 639422.94,  975085.4 ,  941749.94, ...,  269290.94, 1128986.1 ,\n",
       "       1087985.6 ], dtype=float32)"
      ]
     },
     "execution_count": 486,
     "metadata": {},
     "output_type": "execute_result"
    }
   ],
   "source": [
    "predict_test"
   ]
  },
  {
   "cell_type": "code",
   "execution_count": 219,
   "metadata": {},
   "outputs": [],
   "source": [
    "sample_submission = pd.read_csv('sample_submission.csv')\n",
    "sample_submission['price'] = predict\n",
    "# sample_submission['price'] = sample_submission['price'].fillna(sample_submission['price'].mean())\n",
    "sample_submission.to_csv(f'submission_29.csv', index=False)"
   ]
  },
  {
   "cell_type": "markdown",
   "metadata": {},
   "source": [
    "### CatBoost"
   ]
  },
  {
   "cell_type": "markdown",
   "metadata": {},
   "source": [
    "#### Пробовали с транформированными и без трансформирования категориальных данных. В итоге показал результат хуже чем в Random Forest и Gradient Boosting. Также занимало долгое время."
   ]
  },
  {
   "cell_type": "code",
   "execution_count": 214,
   "metadata": {},
   "outputs": [],
   "source": [
    "model = CatBoostRegressor(iterations = 500,\n",
    "                          cat_features=cat_cols,\n",
    "                          random_seed = 42,\n",
    "                          eval_metric='MAPE',\n",
    "                          custom_metric=['R2', 'MAE'],\n",
    "                          silent=True,\n",
    "                          learning_rate=0.05,\n",
    "                          depth=15,\n",
    "                          l2_leaf_reg=8,\n",
    "                          random_strength=0.3\n",
    "                         )"
   ]
  },
  {
   "cell_type": "code",
   "execution_count": 215,
   "metadata": {
    "scrolled": true
   },
   "outputs": [
    {
     "name": "stderr",
     "output_type": "stream",
     "text": [
      "You should provide test set for use best model. use_best_model parameter has been switched to false value.\n"
     ]
    },
    {
     "data": {
      "text/plain": [
       "<catboost.core.CatBoostRegressor at 0x18f9cb2f1c0>"
      ]
     },
     "execution_count": 215,
     "metadata": {},
     "output_type": "execute_result"
    }
   ],
   "source": [
    "model.fit(X_train, Y_train,\n",
    "         use_best_model=True,\n",
    "         verbose=False,\n",
    "         )"
   ]
  },
  {
   "cell_type": "code",
   "execution_count": 203,
   "metadata": {},
   "outputs": [],
   "source": [
    "cat_cols = ['bodyType', 'brand', 'color', 'fuelType', 'model_name', 'vehicleTransmission', 'vendor', 'ПТС', 'Привод', 'Руль']"
   ]
  },
  {
   "cell_type": "code",
   "execution_count": 216,
   "metadata": {},
   "outputs": [],
   "source": [
    "predict = np.exp(model.predict(X_test))"
   ]
  },
  {
   "cell_type": "code",
   "execution_count": 218,
   "metadata": {},
   "outputs": [
    {
     "data": {
      "text/plain": [
       "array([ 696252.16985087, 1005008.61481104,  949926.02300435, ...,\n",
       "        250194.46001757, 1258897.52008821, 1182168.32349922])"
      ]
     },
     "execution_count": 218,
     "metadata": {},
     "output_type": "execute_result"
    }
   ],
   "source": [
    "predict"
   ]
  },
  {
   "cell_type": "code",
   "execution_count": 713,
   "metadata": {},
   "outputs": [
    {
     "data": {
      "text/plain": [
       "array([ 707607.73052455, 1050298.83425229,  877975.48744975, ...,\n",
       "        250031.69825353, 1167976.99191724, 1144223.36843878])"
      ]
     },
     "execution_count": 713,
     "metadata": {},
     "output_type": "execute_result"
    }
   ],
   "source": [
    "predict"
   ]
  }
 ],
 "metadata": {
  "kernelspec": {
   "display_name": "Python 3",
   "language": "python",
   "name": "python3"
  },
  "language_info": {
   "codemirror_mode": {
    "name": "ipython",
    "version": 3
   },
   "file_extension": ".py",
   "mimetype": "text/x-python",
   "name": "python",
   "nbconvert_exporter": "python",
   "pygments_lexer": "ipython3",
   "version": "3.8.3"
  }
 },
 "nbformat": 4,
 "nbformat_minor": 4
}
